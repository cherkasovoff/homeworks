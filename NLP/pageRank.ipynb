{
 "cells": [
  {
   "cell_type": "markdown",
   "metadata": {},
   "source": [
    "## План\n",
    "- Строим матрицу\n",
    "- Телепортация\n",
    "- Нормализуем (сумма строки = 1)\n",
    "- Домножаем на случайный вектор, пока не сойдется"
   ]
  },
  {
   "cell_type": "code",
   "execution_count": 2,
   "metadata": {},
   "outputs": [],
   "source": [
    "import os\n",
    "import urllib\n",
    "from bs4 import BeautifulSoup\n",
    "import numpy as np\n",
    "from tqdm import tqdm"
   ]
  },
  {
   "cell_type": "code",
   "execution_count": 3,
   "metadata": {},
   "outputs": [],
   "source": [
    "filenames = os.listdir(\"raw\")"
   ]
  },
  {
   "cell_type": "code",
   "execution_count": 4,
   "metadata": {},
   "outputs": [
    {
     "data": {
      "text/plain": [
       "2379"
      ]
     },
     "execution_count": 4,
     "metadata": {},
     "output_type": "execute_result"
    }
   ],
   "source": [
    "len(filenames)"
   ]
  },
  {
   "cell_type": "code",
   "execution_count": 5,
   "metadata": {},
   "outputs": [],
   "source": [
    "topics = {}\n",
    "for i, file in enumerate(filenames):\n",
    "    topics[file[:-5]] = i"
   ]
  },
  {
   "cell_type": "code",
   "execution_count": 5,
   "metadata": {},
   "outputs": [],
   "source": [
    "matrix = np.zeros((len(filenames), len(filenames)))"
   ]
  },
  {
   "cell_type": "code",
   "execution_count": 6,
   "metadata": {},
   "outputs": [
    {
     "name": "stderr",
     "output_type": "stream",
     "text": [
      "100%|██████████| 2379/2379 [01:30<00:00, 26.43it/s]\n"
     ]
    }
   ],
   "source": [
    "for file in tqdm(filenames):\n",
    "    with open(f\"raw/{file}\", encoding='utf-8') as f:\n",
    "        cur_topic = file[:-5]\n",
    "        bs = BeautifulSoup(f.read(), \"html.parser\")\n",
    "        all_a = bs.find_all(\"a\")\n",
    "        for link in all_a:\n",
    "            if not 'href' in link.attrs:\n",
    "                continue\n",
    "            href = urllib.parse.unquote(link['href'])\n",
    "            if href.startswith(\"/wiki/\") and href[6:] in topics:\n",
    "                matrix[topics[cur_topic]][topics[href[6:]]] = 1"
   ]
  },
  {
   "cell_type": "code",
   "execution_count": 8,
   "metadata": {},
   "outputs": [],
   "source": [
    "for i in matrix:\n",
    "    for j in range(len(i)):\n",
    "        if i[j] == 0:\n",
    "            i[j] = 0.001"
   ]
  },
  {
   "cell_type": "code",
   "execution_count": 9,
   "metadata": {},
   "outputs": [],
   "source": [
    "row_sums = matrix.sum(axis=1)"
   ]
  },
  {
   "cell_type": "code",
   "execution_count": 10,
   "metadata": {},
   "outputs": [],
   "source": [
    "norm_matrix = matrix / row_sums[:, np.newaxis]"
   ]
  },
  {
   "cell_type": "code",
   "execution_count": 11,
   "metadata": {},
   "outputs": [],
   "source": [
    "vector = np.array([0.2]*len(filenames))"
   ]
  },
  {
   "cell_type": "code",
   "execution_count": 12,
   "metadata": {},
   "outputs": [],
   "source": [
    "for _ in range(100):\n",
    "    vector = norm_matrix.transpose().dot(vector)"
   ]
  },
  {
   "cell_type": "code",
   "execution_count": 13,
   "metadata": {},
   "outputs": [
    {
     "data": {
      "text/plain": [
       "array([0.90675362, 0.75596967])"
      ]
     },
     "execution_count": 13,
     "metadata": {},
     "output_type": "execute_result"
    }
   ],
   "source": [
    "np.take(vector, [1, 2])"
   ]
  },
  {
   "cell_type": "code",
   "execution_count": 14,
   "metadata": {},
   "outputs": [],
   "source": [
    "rank = {}"
   ]
  },
  {
   "cell_type": "code",
   "execution_count": 15,
   "metadata": {},
   "outputs": [],
   "source": [
    "for i, value in enumerate(vector):\n",
    "    rank[i] = value"
   ]
  },
  {
   "cell_type": "code",
   "execution_count": 23,
   "metadata": {},
   "outputs": [],
   "source": [
    "def page_rank(rank, n=10, word=None):\n",
    "    if word is not None:\n",
    "        new_topics = [ind for topic, ind in topics.items() if word.lower() in topic.lower()]\n",
    "    \n",
    "    if word is not None:\n",
    "        new_rank = {}\n",
    "        for ind in new_topics:\n",
    "            new_rank[ind] = rank[ind]\n",
    "    else:\n",
    "        new_rank = rank.copy()\n",
    "        \n",
    "    items = sorted(new_rank.items(), key=lambda t: t[1])[::-1][:n]\n",
    "    for index, value in items:\n",
    "        print(f\"{filenames[index][:-5]}: {value}\")"
   ]
  },
  {
   "cell_type": "markdown",
   "metadata": {},
   "source": [
    "<img src=\"data/PageRank.png\">"
   ]
  },
  {
   "cell_type": "code",
   "execution_count": 17,
   "metadata": {},
   "outputs": [
    {
     "name": "stdout",
     "output_type": "stream",
     "text": [
      "Английский_язык: 6.7102441063494815\n",
      "США: 4.666826841990531\n",
      "Франция: 3.891332065960341\n",
      "Великобритания: 3.755379111713282\n",
      "Германия: 3.045402505156282\n",
      "Соединённые_Штаты_Америки: 2.9824853687421458\n",
      "Италия: 2.411497480410388\n",
      "СССР: 2.385908911034201\n",
      "Викисклад: 2.308323432805024\n",
      "Латинский_язык: 2.305412331063708\n"
     ]
    }
   ],
   "source": [
    "page_rank(rank=rank)"
   ]
  },
  {
   "cell_type": "code",
   "execution_count": 24,
   "metadata": {},
   "outputs": [
    {
     "name": "stdout",
     "output_type": "stream",
     "text": [
      "Армстронг,_Луи: 0.21913073924572785\n",
      "Армстронг,_Нил_Олден: 0.08204167651131537\n",
      "Армстронг,_Нил: 0.07772736651558698\n",
      "Армстронг,_Билли_Джо: 0.06033081219855766\n",
      "Армстронг,_Алан: 0.05467384689837547\n",
      "Армстронг_(фамилия): 0.054339929130478144\n",
      "Армстронг,_Эдвин: 0.048724294245225605\n",
      "Армстронг,_Лэнс: 0.047655826559074285\n",
      "Билли_Джо_Армстронг: 0.04497463456555407\n",
      "Армстронг,_Крэйг: 0.03901933675387252\n"
     ]
    }
   ],
   "source": [
    "page_rank(rank=rank, word='армстронг')"
   ]
  },
  {
   "cell_type": "markdown",
   "metadata": {},
   "source": [
    "# HITS"
   ]
  },
  {
   "cell_type": "code",
   "execution_count": 76,
   "metadata": {},
   "outputs": [],
   "source": [
    "new_topics = [ind for topic, ind in topics.items() if 'армстронг' in topic.lower()]"
   ]
  },
  {
   "cell_type": "code",
   "execution_count": 77,
   "metadata": {},
   "outputs": [],
   "source": [
    "all_topics = set()\n",
    "for i in new_topics:\n",
    "    all_topics.add(i)\n",
    "    for j in range(len(matrix[i])):\n",
    "        if matrix[i][j] == 1:\n",
    "            all_topics.add(j)\n",
    "    for j in range(len(matrix[i])):\n",
    "        if matrix[j][i] == 1:\n",
    "            all_topics.add(j)"
   ]
  },
  {
   "cell_type": "code",
   "execution_count": 78,
   "metadata": {},
   "outputs": [],
   "source": [
    "all_topics = list(all_topics)"
   ]
  },
  {
   "cell_type": "code",
   "execution_count": 79,
   "metadata": {},
   "outputs": [],
   "source": [
    "h = np.ones(len(all_topics))\n",
    "a = np.ones(len(all_topics))"
   ]
  },
  {
   "cell_type": "code",
   "execution_count": 80,
   "metadata": {},
   "outputs": [],
   "source": [
    "for i in range(10):\n",
    "    new_h = []\n",
    "    new_a = []\n",
    "    for j in all_topics:\n",
    "        row = [matrix[j][t] for t in all_topics]\n",
    "        cur_h = [in_ * old for in_, old in zip(row, h)]\n",
    "        cur_h = sum(cur_h)\n",
    "        new_h.append(cur_h)\n",
    "        \n",
    "        out = [matrix[t][j] for t in all_topics]\n",
    "        cur_a = [out_ * old for out_, old in zip(out, a)]\n",
    "        cur_a = sum(cur_a)\n",
    "        new_a.append(cur_a)\n",
    "        \n",
    "    new_h_sum = sum(new_h)\n",
    "    new_h = [cur_h / new_h_sum for cur_h in new_h]\n",
    "        \n",
    "    new_a_sum = sum(new_a)\n",
    "    new_a = [cur_a / new_a_sum for cur_a in new_a]\n",
    "    \n",
    "    h = list(new_h)\n",
    "    a = list(new_a)"
   ]
  },
  {
   "cell_type": "code",
   "execution_count": 81,
   "metadata": {},
   "outputs": [],
   "source": [
    "h_dict = {}\n",
    "for i, val in enumerate(h):\n",
    "    h_dict[i] = val"
   ]
  },
  {
   "cell_type": "code",
   "execution_count": 84,
   "metadata": {},
   "outputs": [],
   "source": [
    "h_items = sorted(h_dict.items(), key=lambda t: t[1] if all_topics[t[0]] in new_topics else 0)[::-1][:10]"
   ]
  },
  {
   "cell_type": "code",
   "execution_count": 89,
   "metadata": {},
   "outputs": [
    {
     "name": "stdout",
     "output_type": "stream",
     "text": [
      "Армстронг,_Лэнс.html\n",
      "Армстронг,_Нил_Олден.html\n",
      "Армстронг,_Нил.html\n",
      "Армстронг,_Рой_Фрейзер.html\n",
      "Билли_Джо_Армстронг.html\n",
      "Армстронг,_Билли_Джо.html\n",
      "Армстронг,_Луи.html\n",
      "Армстронг,_Роберт.html\n",
      "Армстронг,_Джерри.html\n",
      "Армстронг,_Кёрли.html\n"
     ]
    }
   ],
   "source": [
    "[print(filenames[all_topics[i[0]]]) for i in h_items];"
   ]
  },
  {
   "cell_type": "code",
   "execution_count": 90,
   "metadata": {},
   "outputs": [],
   "source": [
    "a_dict = {}\n",
    "for i, val in enumerate(a):\n",
    "    a_dict[i] = val"
   ]
  },
  {
   "cell_type": "code",
   "execution_count": 93,
   "metadata": {},
   "outputs": [],
   "source": [
    "a_items = sorted(a_dict.items(), key=lambda t: t[1] if all_topics[t[0]] in new_topics else 0)[::-1][:10]"
   ]
  },
  {
   "cell_type": "code",
   "execution_count": 94,
   "metadata": {},
   "outputs": [
    {
     "name": "stdout",
     "output_type": "stream",
     "text": [
      "Армстронг,_Луи.html\n",
      "Армстронг,_Нил_Олден.html\n",
      "Армстронг,_Нил.html\n",
      "Армстронг,_Билли_Джо.html\n",
      "Армстронг,_Роберт.html\n",
      "Армстронг,_Лэнс.html\n",
      "Армстронг_(округ,_Техас).html\n",
      "Армстронг_(фамилия).html\n",
      "Клан_Армстронг.html\n",
      "Армстронг,_Джерри.html\n"
     ]
    }
   ],
   "source": [
    "[print(filenames[all_topics[i[0]]]) for i in a_items];"
   ]
  },
  {
   "cell_type": "markdown",
   "metadata": {},
   "source": [
    "<img src=\"data/HITS.png\">"
   ]
  },
  {
   "cell_type": "code",
   "execution_count": null,
   "metadata": {},
   "outputs": [],
   "source": []
  }
 ],
 "metadata": {
  "kernelspec": {
   "display_name": "Python 3",
   "language": "python",
   "name": "python3"
  },
  "language_info": {
   "codemirror_mode": {
    "name": "ipython",
    "version": 3
   },
   "file_extension": ".py",
   "mimetype": "text/x-python",
   "name": "python",
   "nbconvert_exporter": "python",
   "pygments_lexer": "ipython3",
   "version": "3.6.5"
  }
 },
 "nbformat": 4,
 "nbformat_minor": 2
}
