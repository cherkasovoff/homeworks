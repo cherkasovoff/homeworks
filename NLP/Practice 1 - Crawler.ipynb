{
 "cells": [
  {
   "cell_type": "code",
   "execution_count": 1,
   "metadata": {},
   "outputs": [],
   "source": [
    "from parsers import MeduzaParser, AifParser\n",
    "import pickle"
   ]
  },
  {
   "cell_type": "code",
   "execution_count": 2,
   "metadata": {},
   "outputs": [],
   "source": [
    "def save_to_file(data, filename):\n",
    "    with open(f\"data/{filename}.pkl\", 'wb') as f:\n",
    "        pickle.dump(data, f)"
   ]
  },
  {
   "cell_type": "code",
   "execution_count": 3,
   "metadata": {},
   "outputs": [],
   "source": [
    "meduza_parser = MeduzaParser()\n",
    "aif_parser = AifParser()"
   ]
  },
  {
   "cell_type": "code",
   "execution_count": null,
   "metadata": {},
   "outputs": [
    {
     "name": "stdout",
     "output_type": "stream",
     "text": [
      "problem in parse aif news\n",
      "problem in parse aif news\n",
      "problem in parse aif news\n",
      "problem in parse aif news\n",
      "problem in parse aif news\n",
      "problem in parse aif news\n",
      "problem in parse aif news\n",
      "problem in parse aif news\n",
      "problem in parse aif news\n",
      "problem in parse aif news\n",
      "problem in parse aif news\n",
      "problem in parse aif news\n",
      "problem in parse aif news\n",
      "problem in parse aif news\n",
      "problem in parse aif news\n",
      "problem in parse aif news\n",
      "problem in parse aif news\n",
      "problem in parse aif news\n",
      "problem in parse aif news\n",
      "problem in parse aif news\n",
      "problem in parse aif news\n",
      "problem in parse aif news\n",
      "problem in parse aif news\n",
      "problem in parse aif news\n",
      "problem in parse aif news\n",
      "problem in parse aif news\n",
      "problem in parse aif news\n",
      "problem in parse aif news\n",
      "problem in parse aif news\n",
      "problem in parse aif news\n",
      "problem in parse aif news\n",
      "problem in parse aif news\n",
      "problem in parse aif news\n",
      "problem in parse aif news\n",
      "problem in parse aif news\n",
      "problem in parse aif news\n",
      "problem in parse aif news\n",
      "problem in parse aif news\n",
      "problem in parse aif news\n",
      "problem in parse aif news\n",
      "problem in parse aif news\n",
      "problem in parse aif news\n",
      "problem in parse aif news\n",
      "problem in parse aif news\n",
      "problem in parse aif news\n",
      "problem in parse aif news\n",
      "problem in parse aif news\n",
      "problem in parse aif news\n",
      "problem in parse aif news\n",
      "problem in parse aif news\n",
      "problem in parse aif news\n",
      "problem in parse aif news\n",
      "problem in parse aif news\n",
      "problem in parse aif news\n",
      "problem in parse aif news\n",
      "problem in parse aif news\n",
      "problem in parse aif news\n",
      "problem in parse aif news\n",
      "problem in parse aif news\n",
      "problem in parse aif news\n",
      "problem in parse aif news\n",
      "problem in parse aif news\n",
      "problem in parse aif news\n",
      "problem in parse aif news\n",
      "problem in parse aif news\n",
      "problem in parse aif news\n",
      "problem in parse aif news\n",
      "problem in parse aif news\n",
      "problem in parse aif news\n",
      "problem in parse aif news\n",
      "problem in parse aif news\n",
      "problem in parse aif news\n",
      "problem in parse aif news\n",
      "problem in parse aif news\n",
      "problem in parse aif news\n",
      "problem in parse aif news\n"
     ]
    }
   ],
   "source": [
    "news = []\n",
    "for parser in [meduza_parser, aif_parser]:\n",
    "    site_news = parser.parse_news(10000)\n",
    "    news.extend(site_news)\n",
    "    \n",
    "save_to_file(news, \"news\")"
   ]
  },
  {
   "cell_type": "code",
   "execution_count": null,
   "metadata": {},
   "outputs": [],
   "source": [
    "len(news)"
   ]
  },
  {
   "cell_type": "code",
   "execution_count": null,
   "metadata": {},
   "outputs": [],
   "source": [
    "save_to_file(news, \"news_aif\")"
   ]
  },
  {
   "cell_type": "code",
   "execution_count": null,
   "metadata": {},
   "outputs": [],
   "source": []
  }
 ],
 "metadata": {
  "kernelspec": {
   "display_name": "Python 3",
   "language": "python",
   "name": "python3"
  },
  "language_info": {
   "codemirror_mode": {
    "name": "ipython",
    "version": 3
   },
   "file_extension": ".py",
   "mimetype": "text/x-python",
   "name": "python",
   "nbconvert_exporter": "python",
   "pygments_lexer": "ipython3",
   "version": "3.6.0"
  }
 },
 "nbformat": 4,
 "nbformat_minor": 2
}
