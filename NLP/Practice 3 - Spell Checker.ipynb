{
 "cells": [
  {
   "cell_type": "code",
   "execution_count": 38,
   "metadata": {},
   "outputs": [],
   "source": [
    "from collections import Counter, defaultdict\n",
    "import operator\n",
    "import stringdist\n",
    "import os\n",
    "import re\n",
    "from tqdm import tqdm"
   ]
  },
  {
   "cell_type": "code",
   "execution_count": 2,
   "metadata": {},
   "outputs": [],
   "source": [
    "texts = []\n",
    "\n",
    "for i in os.listdir('data'):\n",
    "    for j in os.listdir(f'data/{i}'):\n",
    "        file = os.listdir(f'data/{i}/{j}')[0]\n",
    "        with open(f\"data/{i}/{j}/{file}\", encoding=\"utf-8\") as f:\n",
    "            texts.append(f.read().replace(u'\\xa0', ' '))"
   ]
  },
  {
   "cell_type": "code",
   "execution_count": 3,
   "metadata": {},
   "outputs": [],
   "source": [
    "cnt = Counter()"
   ]
  },
  {
   "cell_type": "code",
   "execution_count": 4,
   "metadata": {},
   "outputs": [],
   "source": [
    "words = []\n",
    "pattern = \"[а-яА-Я]{3,}\"\n",
    "\n",
    "for text in texts:\n",
    "    text_words = text.split()\n",
    "    for word in text_words:\n",
    "        corrects = re.findall(pattern, word)\n",
    "        if len(corrects) == 1:\n",
    "            words.append(corrects[0].lower())"
   ]
  },
  {
   "cell_type": "code",
   "execution_count": 5,
   "metadata": {},
   "outputs": [],
   "source": [
    "for word in words:\n",
    "    cnt[word] += 1"
   ]
  },
  {
   "cell_type": "code",
   "execution_count": 14,
   "metadata": {},
   "outputs": [],
   "source": [
    "def find_nearest(word, n=10):\n",
    "    result = []\n",
    "    for cnt_word, count in cnt.items():\n",
    "        dist = stringdist.rdlevenshtein(word, cnt_word)\n",
    "        result.append((cnt_word, dist, count))\n",
    "        \n",
    "    result.sort(key=operator.itemgetter(1, 2))\n",
    "    \n",
    "    return result[:n]"
   ]
  },
  {
   "cell_type": "code",
   "execution_count": 16,
   "metadata": {},
   "outputs": [
    {
     "name": "stdout",
     "output_type": "stream",
     "text": [
      "Wall time: 9.54 s\n"
     ]
    },
    {
     "data": {
      "text/plain": [
       "[('президент', 1, 1453),\n",
       " ('президет', 2, 1),\n",
       " ('резидент', 2, 9),\n",
       " ('президенте', 2, 24),\n",
       " ('президенты', 2, 37),\n",
       " ('президенту', 2, 109),\n",
       " ('президента', 2, 846),\n",
       " ('президентам', 3, 1),\n",
       " ('резиденту', 3, 1),\n",
       " ('президета', 3, 1)]"
      ]
     },
     "execution_count": 16,
     "metadata": {},
     "output_type": "execute_result"
    }
   ],
   "source": [
    "%%time\n",
    "\n",
    "find_nearest('призидент')"
   ]
  },
  {
   "cell_type": "markdown",
   "metadata": {},
   "source": [
    "## Bigrams"
   ]
  },
  {
   "cell_type": "code",
   "execution_count": 18,
   "metadata": {},
   "outputs": [],
   "source": [
    "bigram_index = defaultdict(list)"
   ]
  },
  {
   "cell_type": "code",
   "execution_count": 44,
   "metadata": {},
   "outputs": [],
   "source": [
    "for word in set(words):\n",
    "    bigrams = [word[i:i+2] for i in range(len(word)-1)]\n",
    "    [bigram_index[bigram].append(word) for bigram in bigrams]"
   ]
  },
  {
   "cell_type": "code",
   "execution_count": 75,
   "metadata": {},
   "outputs": [],
   "source": [
    "def find_nearest_by_index(word, n=10):\n",
    "    result = []\n",
    "    \n",
    "    bigram_words = []\n",
    "    bigrams = [word[i:i+2] for i in range(len(word)-1)]\n",
    "    [bigram_words.extend(bigram_index[bigram]) for bigram in bigrams]\n",
    "    \n",
    "    c = Counter(bigram_words)\n",
    "    bigram_set = {k for k,v in c.items() if v > 1 and len(k)-len(word) < 3 and len(k)-len(word) > -3}\n",
    "    \n",
    "    for bigram_word in bigram_set:\n",
    "        dist = stringdist.rdlevenshtein(word, bigram_word)\n",
    "        result.append((bigram_word, dist, cnt[bigram_word]))\n",
    "        \n",
    "    result.sort(key=operator.itemgetter(1, 2))\n",
    "    \n",
    "    return result[:n]"
   ]
  },
  {
   "cell_type": "code",
   "execution_count": 76,
   "metadata": {
    "scrolled": true
   },
   "outputs": [
    {
     "name": "stdout",
     "output_type": "stream",
     "text": [
      "Wall time: 1.86 s\n"
     ]
    },
    {
     "data": {
      "text/plain": [
       "[('президент', 1, 1453),\n",
       " ('президет', 2, 1),\n",
       " ('резидент', 2, 9),\n",
       " ('президенте', 2, 24),\n",
       " ('президенты', 2, 37),\n",
       " ('президенту', 2, 109),\n",
       " ('президента', 2, 846),\n",
       " ('резиденту', 3, 1),\n",
       " ('президентам', 3, 1),\n",
       " ('президета', 3, 1)]"
      ]
     },
     "execution_count": 76,
     "metadata": {},
     "output_type": "execute_result"
    }
   ],
   "source": [
    "%%time\n",
    "\n",
    "find_nearest_by_index('призидент')"
   ]
  },
  {
   "cell_type": "code",
   "execution_count": null,
   "metadata": {},
   "outputs": [],
   "source": []
  }
 ],
 "metadata": {
  "kernelspec": {
   "display_name": "Python 3",
   "language": "python",
   "name": "python3"
  },
  "language_info": {
   "codemirror_mode": {
    "name": "ipython",
    "version": 3
   },
   "file_extension": ".py",
   "mimetype": "text/x-python",
   "name": "python",
   "nbconvert_exporter": "python",
   "pygments_lexer": "ipython3",
   "version": "3.6.0"
  }
 },
 "nbformat": 4,
 "nbformat_minor": 2
}
