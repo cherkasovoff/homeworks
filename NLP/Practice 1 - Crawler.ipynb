{
 "cells": [
  {
   "cell_type": "code",
   "execution_count": 1,
   "metadata": {},
   "outputs": [],
   "source": [
    "from parsers import MeduzaParser, AifParser\n",
    "import pickle\n",
    "import pandas as pd"
   ]
  },
  {
   "cell_type": "code",
   "execution_count": 2,
   "metadata": {},
   "outputs": [],
   "source": [
    "def save_to_file(data, filename):\n",
    "    with open(f\"data/{filename}.pkl\", 'wb') as f:\n",
    "        pickle.dump(data, f)"
   ]
  },
  {
   "cell_type": "code",
   "execution_count": 3,
   "metadata": {},
   "outputs": [],
   "source": [
    "meduza_parser = MeduzaParser()\n",
    "aif_parser = AifParser()"
   ]
  },
  {
   "cell_type": "code",
   "execution_count": null,
   "metadata": {},
   "outputs": [],
   "source": [
    "news = []\n",
    "for parser in [meduza_parser, aif_parser]:\n",
    "    site_news = parser.parse_news(10000)\n",
    "    news.extend(site_news)\n",
    "    \n",
    "save_to_file(news, \"news\")"
   ]
  },
  {
   "cell_type": "code",
   "execution_count": null,
   "metadata": {},
   "outputs": [
    {
     "name": "stdout",
     "output_type": "stream",
     "text": [
      "count: 5442"
     ]
    }
   ],
   "source": [
    "site_news = aif_parser.parse_news(10000)"
   ]
  },
  {
   "cell_type": "code",
   "execution_count": null,
   "metadata": {},
   "outputs": [],
   "source": [
    "save_to_file(site_news, \"news_aif\")"
   ]
  },
  {
   "cell_type": "code",
   "execution_count": 7,
   "metadata": {},
   "outputs": [
    {
     "data": {
      "text/plain": [
       "10040"
      ]
     },
     "execution_count": 7,
     "metadata": {},
     "output_type": "execute_result"
    }
   ],
   "source": [
    "len(site_news)"
   ]
  },
  {
   "cell_type": "code",
   "execution_count": 13,
   "metadata": {},
   "outputs": [],
   "source": [
    "save_to_file(news, \"news_all\")"
   ]
  },
  {
   "cell_type": "code",
   "execution_count": 12,
   "metadata": {},
   "outputs": [],
   "source": [
    "save_to_file(news[:10000], \"news_meduza\")"
   ]
  },
  {
   "cell_type": "code",
   "execution_count": 15,
   "metadata": {},
   "outputs": [],
   "source": [
    "news = pd.DataFrame(news)"
   ]
  },
  {
   "cell_type": "code",
   "execution_count": 16,
   "metadata": {},
   "outputs": [
    {
     "data": {
      "text/html": [
       "<div>\n",
       "<style scoped>\n",
       "    .dataframe tbody tr th:only-of-type {\n",
       "        vertical-align: middle;\n",
       "    }\n",
       "\n",
       "    .dataframe tbody tr th {\n",
       "        vertical-align: top;\n",
       "    }\n",
       "\n",
       "    .dataframe thead th {\n",
       "        text-align: right;\n",
       "    }\n",
       "</style>\n",
       "<table border=\"1\" class=\"dataframe\">\n",
       "  <thead>\n",
       "    <tr style=\"text-align: right;\">\n",
       "      <th></th>\n",
       "      <th>author</th>\n",
       "      <th>body</th>\n",
       "      <th>date</th>\n",
       "      <th>rubric</th>\n",
       "      <th>title</th>\n",
       "    </tr>\n",
       "  </thead>\n",
       "  <tbody>\n",
       "    <tr>\n",
       "      <th>0</th>\n",
       "      <td>Meduza</td>\n",
       "      <td>Верховный суд Марий Эл 23 мая отменил решени...</td>\n",
       "      <td>2019-05-31 15:04:00</td>\n",
       "      <td>NaN</td>\n",
       "      <td>VPN-сервис HideMy.name выиграл суд о блокировке</td>\n",
       "    </tr>\n",
       "    <tr>\n",
       "      <th>1</th>\n",
       "      <td>Рамуш Харадинай</td>\n",
       "      <td>Россиянин Михаил Краснощеков, работающий в ми...</td>\n",
       "      <td>2019-05-31 12:46:00</td>\n",
       "      <td>NaN</td>\n",
       "      <td>Власти Косово объявили российского сотрудника...</td>\n",
       "    </tr>\n",
       "    <tr>\n",
       "      <th>2</th>\n",
       "      <td>Коммерсант</td>\n",
       "      <td>Министерство образования и науки РФ ответило н...</td>\n",
       "      <td>2019-05-31 14:03:00</td>\n",
       "      <td>NaN</td>\n",
       "      <td>В Минобрнауки назвали легитимным формирование ...</td>\n",
       "    </tr>\n",
       "    <tr>\n",
       "      <th>3</th>\n",
       "      <td>\"Красная звезда\"</td>\n",
       "      <td>В главном храме Минобороны, который строят в ...</td>\n",
       "      <td>2019-05-31 13:57:00</td>\n",
       "      <td>NaN</td>\n",
       "      <td>В главном храме Минобороны изобразят подвиг 28...</td>\n",
       "    </tr>\n",
       "    <tr>\n",
       "      <th>4</th>\n",
       "      <td>Forbes</td>\n",
       "      <td>Следователи, ведущие дело «Седьмой студии», в...</td>\n",
       "      <td>2019-05-31 12:22:00</td>\n",
       "      <td>NaN</td>\n",
       "      <td>В деле «Седьмой студии» появится новый подоз...</td>\n",
       "    </tr>\n",
       "  </tbody>\n",
       "</table>\n",
       "</div>"
      ],
      "text/plain": [
       "             author                                               body  \\\n",
       "0            Meduza  Верховный суд Марий Эл 23 мая отменил решени...   \n",
       "1   Рамуш Харадинай  Россиянин Михаил Краснощеков, работающий в ми...   \n",
       "2        Коммерсант  Министерство образования и науки РФ ответило н...   \n",
       "3  \"Красная звезда\"  В главном храме Минобороны, который строят в ...   \n",
       "4            Forbes  Следователи, ведущие дело «Седьмой студии», в...   \n",
       "\n",
       "                 date rubric  \\\n",
       "0 2019-05-31 15:04:00    NaN   \n",
       "1 2019-05-31 12:46:00    NaN   \n",
       "2 2019-05-31 14:03:00    NaN   \n",
       "3 2019-05-31 13:57:00    NaN   \n",
       "4 2019-05-31 12:22:00    NaN   \n",
       "\n",
       "                                               title  \n",
       "0    VPN-сервис HideMy.name выиграл суд о блокировке  \n",
       "1  Власти Косово объявили российского сотрудника...  \n",
       "2  В Минобрнауки назвали легитимным формирование ...  \n",
       "3  В главном храме Минобороны изобразят подвиг 28...  \n",
       "4  В деле «Седьмой студии» появится новый подоз...  "
      ]
     },
     "execution_count": 16,
     "metadata": {},
     "output_type": "execute_result"
    }
   ],
   "source": [
    "news.head()"
   ]
  },
  {
   "cell_type": "code",
   "execution_count": 17,
   "metadata": {},
   "outputs": [
    {
     "data": {
      "text/html": [
       "<div>\n",
       "<style scoped>\n",
       "    .dataframe tbody tr th:only-of-type {\n",
       "        vertical-align: middle;\n",
       "    }\n",
       "\n",
       "    .dataframe tbody tr th {\n",
       "        vertical-align: top;\n",
       "    }\n",
       "\n",
       "    .dataframe thead th {\n",
       "        text-align: right;\n",
       "    }\n",
       "</style>\n",
       "<table border=\"1\" class=\"dataframe\">\n",
       "  <thead>\n",
       "    <tr style=\"text-align: right;\">\n",
       "      <th></th>\n",
       "      <th>author</th>\n",
       "      <th>body</th>\n",
       "      <th>date</th>\n",
       "      <th>rubric</th>\n",
       "      <th>title</th>\n",
       "    </tr>\n",
       "  </thead>\n",
       "  <tbody>\n",
       "    <tr>\n",
       "      <th>20085</th>\n",
       "      <td>aif</td>\n",
       "      <td>\\nМосква, 31 мая - АиФ-Москва.\\nГенсекретарь О...</td>\n",
       "      <td>2019-05-31 13:32:00</td>\n",
       "      <td>money</td>\n",
       "      <td>В церемонии открытия ПМЭФ-2019 примет участие ...</td>\n",
       "    </tr>\n",
       "    <tr>\n",
       "      <th>20086</th>\n",
       "      <td>aif</td>\n",
       "      <td>\\nМоcква, 31 мая - АиФ-Москва.\\n \\n\\n\\n\\nВице-...</td>\n",
       "      <td>2019-05-31 13:00:00</td>\n",
       "      <td>money</td>\n",
       "      <td>Вице-спикер Рады обвинила Гройсмана в разворов...</td>\n",
       "    </tr>\n",
       "    <tr>\n",
       "      <th>20087</th>\n",
       "      <td>Елена Слободян</td>\n",
       "      <td>\\n\\n\\n\\n\\n\\n\\t\\tОтвет редакции\\t\\t\\t\\t\\n\\n\\t\\t...</td>\n",
       "      <td>2019-05-31 12:41:00</td>\n",
       "      <td>money</td>\n",
       "      <td>Что такое наследственный договор и кому он выг...</td>\n",
       "    </tr>\n",
       "    <tr>\n",
       "      <th>20088</th>\n",
       "      <td>Анна Джей</td>\n",
       "      <td>\\n\\n\\n\\n\\n\\n\\t\\tОтвет редакции\\t\\t\\t\\t\\n\\n\\t\\t...</td>\n",
       "      <td>2019-05-31 12:25:00</td>\n",
       "      <td>money</td>\n",
       "      <td>Как сэкономить с помощью портала госуслуг?</td>\n",
       "    </tr>\n",
       "    <tr>\n",
       "      <th>20089</th>\n",
       "      <td>aif</td>\n",
       "      <td>\\nМоcква, 31 мая - АиФ-Москва.\\n \\n\\n\\n\\nРосси...</td>\n",
       "      <td>2019-05-31 11:40:00</td>\n",
       "      <td>money</td>\n",
       "      <td>Счетная палата назвала сумму, которую пенсионе...</td>\n",
       "    </tr>\n",
       "  </tbody>\n",
       "</table>\n",
       "</div>"
      ],
      "text/plain": [
       "               author                                               body  \\\n",
       "20085             aif  \\nМосква, 31 мая - АиФ-Москва.\\nГенсекретарь О...   \n",
       "20086             aif  \\nМоcква, 31 мая - АиФ-Москва.\\n \\n\\n\\n\\nВице-...   \n",
       "20087  Елена Слободян  \\n\\n\\n\\n\\n\\n\\t\\tОтвет редакции\\t\\t\\t\\t\\n\\n\\t\\t...   \n",
       "20088       Анна Джей  \\n\\n\\n\\n\\n\\n\\t\\tОтвет редакции\\t\\t\\t\\t\\n\\n\\t\\t...   \n",
       "20089             aif  \\nМоcква, 31 мая - АиФ-Москва.\\n \\n\\n\\n\\nРосси...   \n",
       "\n",
       "                     date rubric  \\\n",
       "20085 2019-05-31 13:32:00  money   \n",
       "20086 2019-05-31 13:00:00  money   \n",
       "20087 2019-05-31 12:41:00  money   \n",
       "20088 2019-05-31 12:25:00  money   \n",
       "20089 2019-05-31 11:40:00  money   \n",
       "\n",
       "                                                   title  \n",
       "20085  В церемонии открытия ПМЭФ-2019 примет участие ...  \n",
       "20086  Вице-спикер Рады обвинила Гройсмана в разворов...  \n",
       "20087  Что такое наследственный договор и кому он выг...  \n",
       "20088         Как сэкономить с помощью портала госуслуг?  \n",
       "20089  Счетная палата назвала сумму, которую пенсионе...  "
      ]
     },
     "execution_count": 17,
     "metadata": {},
     "output_type": "execute_result"
    }
   ],
   "source": [
    "news.tail()"
   ]
  },
  {
   "cell_type": "code",
   "execution_count": null,
   "metadata": {},
   "outputs": [],
   "source": []
  },
  {
   "cell_type": "code",
   "execution_count": 8,
   "metadata": {},
   "outputs": [],
   "source": [
    "news = pd.DataFrame(site_news)"
   ]
  },
  {
   "cell_type": "code",
   "execution_count": 9,
   "metadata": {},
   "outputs": [
    {
     "data": {
      "text/plain": [
       "(10040, 5)"
      ]
     },
     "execution_count": 9,
     "metadata": {},
     "output_type": "execute_result"
    }
   ],
   "source": [
    "news.shape"
   ]
  },
  {
   "cell_type": "code",
   "execution_count": 5,
   "metadata": {},
   "outputs": [],
   "source": [
    "news = news.iloc[10000:]"
   ]
  },
  {
   "cell_type": "code",
   "execution_count": 10,
   "metadata": {},
   "outputs": [],
   "source": [
    "test = news.drop_duplicates(\"title\")"
   ]
  },
  {
   "cell_type": "code",
   "execution_count": 11,
   "metadata": {},
   "outputs": [
    {
     "data": {
      "text/plain": [
       "(126, 5)"
      ]
     },
     "execution_count": 11,
     "metadata": {},
     "output_type": "execute_result"
    }
   ],
   "source": [
    "test.shape"
   ]
  },
  {
   "cell_type": "code",
   "execution_count": 10,
   "metadata": {},
   "outputs": [
    {
     "data": {
      "text/html": [
       "<div>\n",
       "<style scoped>\n",
       "    .dataframe tbody tr th:only-of-type {\n",
       "        vertical-align: middle;\n",
       "    }\n",
       "\n",
       "    .dataframe tbody tr th {\n",
       "        vertical-align: top;\n",
       "    }\n",
       "\n",
       "    .dataframe thead th {\n",
       "        text-align: right;\n",
       "    }\n",
       "</style>\n",
       "<table border=\"1\" class=\"dataframe\">\n",
       "  <thead>\n",
       "    <tr style=\"text-align: right;\">\n",
       "      <th></th>\n",
       "      <th>author</th>\n",
       "      <th>body</th>\n",
       "      <th>date</th>\n",
       "      <th>rubric</th>\n",
       "      <th>title</th>\n",
       "    </tr>\n",
       "  </thead>\n",
       "  <tbody>\n",
       "    <tr>\n",
       "      <th>0</th>\n",
       "      <td>Олег Полежаев</td>\n",
       "      <td>\\nПо предложению ЛДПР русские должны получать ...</td>\n",
       "      <td>2019-06-21 10:59:00</td>\n",
       "      <td>politics</td>\n",
       "      <td>Русские без гражданства. Что возмутило лидера ...</td>\n",
       "    </tr>\n",
       "    <tr>\n",
       "      <th>1</th>\n",
       "      <td>aif</td>\n",
       "      <td>\\nМосква, 21 июня - АиФ-Москва.\\nАмериканский...</td>\n",
       "      <td>2019-06-21 21:55:00</td>\n",
       "      <td>politics</td>\n",
       "      <td>Трамп снова продлил санкции против КНДР</td>\n",
       "    </tr>\n",
       "    <tr>\n",
       "      <th>2</th>\n",
       "      <td>aif</td>\n",
       "      <td>\\nМосква, 21 июня - АиФ-Москва.\\nРоссия и Бело...</td>\n",
       "      <td>2019-06-21 20:52:00</td>\n",
       "      <td>politics</td>\n",
       "      <td>РФ и Белоруссия выйдут на подписание дорожных ...</td>\n",
       "    </tr>\n",
       "    <tr>\n",
       "      <th>3</th>\n",
       "      <td>aif</td>\n",
       "      <td>\\nМосква, 21 июня - АиФ-Москва.\\nГлава правите...</td>\n",
       "      <td>2019-06-21 20:41:00</td>\n",
       "      <td>politics</td>\n",
       "      <td>Медведев отреагировал на обвинения РФ в органи...</td>\n",
       "    </tr>\n",
       "    <tr>\n",
       "      <th>4</th>\n",
       "      <td>aif</td>\n",
       "      <td>\\nМосква, 21 июня - АиФ-Москва.\\nЛидер Филиппи...</td>\n",
       "      <td>2019-06-21 20:30:00</td>\n",
       "      <td>politics</td>\n",
       "      <td>Президент Филиппин Дутерте может приехать в Ро...</td>\n",
       "    </tr>\n",
       "  </tbody>\n",
       "</table>\n",
       "</div>"
      ],
      "text/plain": [
       "          author                                               body  \\\n",
       "0  Олег Полежаев  \\nПо предложению ЛДПР русские должны получать ...   \n",
       "1            aif  \\nМосква, 21 июня - АиФ-Москва.\\nАмериканский...   \n",
       "2            aif  \\nМосква, 21 июня - АиФ-Москва.\\nРоссия и Бело...   \n",
       "3            aif  \\nМосква, 21 июня - АиФ-Москва.\\nГлава правите...   \n",
       "4            aif  \\nМосква, 21 июня - АиФ-Москва.\\nЛидер Филиппи...   \n",
       "\n",
       "                 date    rubric  \\\n",
       "0 2019-06-21 10:59:00  politics   \n",
       "1 2019-06-21 21:55:00  politics   \n",
       "2 2019-06-21 20:52:00  politics   \n",
       "3 2019-06-21 20:41:00  politics   \n",
       "4 2019-06-21 20:30:00  politics   \n",
       "\n",
       "                                               title  \n",
       "0  Русские без гражданства. Что возмутило лидера ...  \n",
       "1            Трамп снова продлил санкции против КНДР  \n",
       "2  РФ и Белоруссия выйдут на подписание дорожных ...  \n",
       "3  Медведев отреагировал на обвинения РФ в органи...  \n",
       "4  Президент Филиппин Дутерте может приехать в Ро...  "
      ]
     },
     "execution_count": 10,
     "metadata": {},
     "output_type": "execute_result"
    }
   ],
   "source": [
    "test.head()"
   ]
  },
  {
   "cell_type": "code",
   "execution_count": 11,
   "metadata": {},
   "outputs": [
    {
     "data": {
      "text/html": [
       "<div>\n",
       "<style scoped>\n",
       "    .dataframe tbody tr th:only-of-type {\n",
       "        vertical-align: middle;\n",
       "    }\n",
       "\n",
       "    .dataframe tbody tr th {\n",
       "        vertical-align: top;\n",
       "    }\n",
       "\n",
       "    .dataframe thead th {\n",
       "        text-align: right;\n",
       "    }\n",
       "</style>\n",
       "<table border=\"1\" class=\"dataframe\">\n",
       "  <thead>\n",
       "    <tr style=\"text-align: right;\">\n",
       "      <th></th>\n",
       "      <th>author</th>\n",
       "      <th>body</th>\n",
       "      <th>date</th>\n",
       "      <th>rubric</th>\n",
       "      <th>title</th>\n",
       "    </tr>\n",
       "  </thead>\n",
       "  <tbody>\n",
       "    <tr>\n",
       "      <th>115</th>\n",
       "      <td>aif</td>\n",
       "      <td>\\nМосква, 21 июня - АиФ-Москва.\\nДепутат Госду...</td>\n",
       "      <td>2019-06-21 18:07:00</td>\n",
       "      <td>society</td>\n",
       "      <td>Выехавший из Грузии депутат Гаврилов рассказал...</td>\n",
       "    </tr>\n",
       "    <tr>\n",
       "      <th>116</th>\n",
       "      <td>aif</td>\n",
       "      <td>\\nМосква, 21 июня - АиФ-Москва.\\nАдминистрация...</td>\n",
       "      <td>2019-06-21 17:41:00</td>\n",
       "      <td>society</td>\n",
       "      <td>Глава Совета судей Украины обвинил администрац...</td>\n",
       "    </tr>\n",
       "    <tr>\n",
       "      <th>117</th>\n",
       "      <td>aif</td>\n",
       "      <td>\\nМосква, 21 июня - АиФ-Москва.\\nАдвокат младш...</td>\n",
       "      <td>2019-06-21 17:21:00</td>\n",
       "      <td>society</td>\n",
       "      <td>Суд 26 июня рассмотрит продление меры пресечен...</td>\n",
       "    </tr>\n",
       "    <tr>\n",
       "      <th>118</th>\n",
       "      <td>aif</td>\n",
       "      <td>\\nМосква, 21 июня - АиФ-Москва.\\nЗащита экс-по...</td>\n",
       "      <td>2019-06-21 17:16:00</td>\n",
       "      <td>society</td>\n",
       "      <td>Защита бывшего полковника Захарченко подала де...</td>\n",
       "    </tr>\n",
       "    <tr>\n",
       "      <th>119</th>\n",
       "      <td>aif</td>\n",
       "      <td>\\nМосква, 21 июня - АиФ-Москва.\\nГлавное управ...</td>\n",
       "      <td>2019-06-21 17:07:00</td>\n",
       "      <td>society</td>\n",
       "      <td>В МВД появится отдел по борьбе со злоупотребле...</td>\n",
       "    </tr>\n",
       "  </tbody>\n",
       "</table>\n",
       "</div>"
      ],
      "text/plain": [
       "    author                                               body  \\\n",
       "115    aif  \\nМосква, 21 июня - АиФ-Москва.\\nДепутат Госду...   \n",
       "116    aif  \\nМосква, 21 июня - АиФ-Москва.\\nАдминистрация...   \n",
       "117    aif  \\nМосква, 21 июня - АиФ-Москва.\\nАдвокат младш...   \n",
       "118    aif  \\nМосква, 21 июня - АиФ-Москва.\\nЗащита экс-по...   \n",
       "119    aif  \\nМосква, 21 июня - АиФ-Москва.\\nГлавное управ...   \n",
       "\n",
       "                   date   rubric  \\\n",
       "115 2019-06-21 18:07:00  society   \n",
       "116 2019-06-21 17:41:00  society   \n",
       "117 2019-06-21 17:21:00  society   \n",
       "118 2019-06-21 17:16:00  society   \n",
       "119 2019-06-21 17:07:00  society   \n",
       "\n",
       "                                                 title  \n",
       "115  Выехавший из Грузии депутат Гаврилов рассказал...  \n",
       "116  Глава Совета судей Украины обвинил администрац...  \n",
       "117  Суд 26 июня рассмотрит продление меры пресечен...  \n",
       "118  Защита бывшего полковника Захарченко подала де...  \n",
       "119  В МВД появится отдел по борьбе со злоупотребле...  "
      ]
     },
     "execution_count": 11,
     "metadata": {},
     "output_type": "execute_result"
    }
   ],
   "source": [
    "news.tail()"
   ]
  },
  {
   "cell_type": "code",
   "execution_count": null,
   "metadata": {},
   "outputs": [],
   "source": []
  },
  {
   "cell_type": "code",
   "execution_count": 9,
   "metadata": {},
   "outputs": [],
   "source": [
    "with open(\"data/news.pkl\", 'rb') as f:\n",
    "    news = pickle.load(f)"
   ]
  },
  {
   "cell_type": "code",
   "execution_count": null,
   "metadata": {},
   "outputs": [],
   "source": []
  }
 ],
 "metadata": {
  "kernelspec": {
   "display_name": "Python 3",
   "language": "python",
   "name": "python3"
  },
  "language_info": {
   "codemirror_mode": {
    "name": "ipython",
    "version": 3
   },
   "file_extension": ".py",
   "mimetype": "text/x-python",
   "name": "python",
   "nbconvert_exporter": "python",
   "pygments_lexer": "ipython3",
   "version": "3.6.0"
  }
 },
 "nbformat": 4,
 "nbformat_minor": 2
}
