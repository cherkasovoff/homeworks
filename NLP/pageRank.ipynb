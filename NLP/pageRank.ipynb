{
 "cells": [
  {
   "cell_type": "markdown",
   "metadata": {},
   "source": [
    "## План\n",
    "- Строим матрицу\n",
    "- Телепортация\n",
    "- Нормализуем (сумма строки = 1)\n",
    "- Домножаем на случайный вектор, пока не сойдется"
   ]
  },
  {
   "cell_type": "code",
   "execution_count": 1,
   "metadata": {},
   "outputs": [],
   "source": [
    "import os\n",
    "import urllib\n",
    "from bs4 import BeautifulSoup\n",
    "import numpy as np\n",
    "from tqdm import tqdm"
   ]
  },
  {
   "cell_type": "code",
   "execution_count": 2,
   "metadata": {},
   "outputs": [],
   "source": [
    "filenames = os.listdir(\"raw\")"
   ]
  },
  {
   "cell_type": "code",
   "execution_count": 3,
   "metadata": {},
   "outputs": [
    {
     "data": {
      "text/plain": [
       "2379"
      ]
     },
     "execution_count": 3,
     "metadata": {},
     "output_type": "execute_result"
    }
   ],
   "source": [
    "len(filenames)"
   ]
  },
  {
   "cell_type": "code",
   "execution_count": 4,
   "metadata": {},
   "outputs": [],
   "source": [
    "topics = {}\n",
    "for i, file in enumerate(filenames):\n",
    "    topics[file[:-5]] = i"
   ]
  },
  {
   "cell_type": "code",
   "execution_count": 5,
   "metadata": {},
   "outputs": [],
   "source": [
    "matrix = np.zeros((len(filenames), len(filenames)))"
   ]
  },
  {
   "cell_type": "code",
   "execution_count": 6,
   "metadata": {},
   "outputs": [
    {
     "name": "stderr",
     "output_type": "stream",
     "text": [
      "100%|██████████████████████████████████████| 2379/2379 [05:19<00:00,  7.45it/s]\n"
     ]
    }
   ],
   "source": [
    "for file in tqdm(filenames):\n",
    "    with open(f\"raw/{file}\", encoding='utf-8') as f:\n",
    "        cur_topic = file[:-5]\n",
    "        bs = BeautifulSoup(f.read(), \"html.parser\")\n",
    "        all_a = bs.find_all(\"a\")\n",
    "        for link in all_a:\n",
    "            if not 'href' in link.attrs:\n",
    "                continue\n",
    "            href = urllib.parse.unquote(link['href'])\n",
    "            if href.startswith(\"/wiki/\") and href[6:] in topics:\n",
    "                matrix[topics[cur_topic]][topics[href[6:]]] = 1"
   ]
  },
  {
   "cell_type": "code",
   "execution_count": 8,
   "metadata": {},
   "outputs": [],
   "source": [
    "for i in matrix:\n",
    "    for j in range(len(i)):\n",
    "        if i[j] == 0:\n",
    "            i[j] = 0.001"
   ]
  },
  {
   "cell_type": "code",
   "execution_count": 9,
   "metadata": {},
   "outputs": [],
   "source": [
    "row_sums = matrix.sum(axis=1)"
   ]
  },
  {
   "cell_type": "code",
   "execution_count": 10,
   "metadata": {},
   "outputs": [],
   "source": [
    "norm_matrix = matrix / row_sums[:, np.newaxis]"
   ]
  },
  {
   "cell_type": "code",
   "execution_count": 11,
   "metadata": {},
   "outputs": [],
   "source": [
    "vector = np.array([0.2]*len(filenames))"
   ]
  },
  {
   "cell_type": "code",
   "execution_count": 12,
   "metadata": {},
   "outputs": [],
   "source": [
    "for _ in range(100):\n",
    "    vector = norm_matrix.transpose().dot(vector)"
   ]
  },
  {
   "cell_type": "code",
   "execution_count": 13,
   "metadata": {},
   "outputs": [
    {
     "data": {
      "text/plain": [
       "array([0.90675362, 0.75596967])"
      ]
     },
     "execution_count": 13,
     "metadata": {},
     "output_type": "execute_result"
    }
   ],
   "source": [
    "np.take(vector, [1, 2])"
   ]
  },
  {
   "cell_type": "code",
   "execution_count": 14,
   "metadata": {},
   "outputs": [],
   "source": [
    "rank = {}"
   ]
  },
  {
   "cell_type": "code",
   "execution_count": 15,
   "metadata": {},
   "outputs": [],
   "source": [
    "for i, value in enumerate(vector):\n",
    "    rank[i] = value"
   ]
  },
  {
   "cell_type": "code",
   "execution_count": 23,
   "metadata": {},
   "outputs": [],
   "source": [
    "def page_rank(rank, n=10, word=None):\n",
    "    if word is not None:\n",
    "        new_topics = [ind for topic, ind in topics.items() if word.lower() in topic.lower()]\n",
    "    \n",
    "    if word is not None:\n",
    "        new_rank = {}\n",
    "        for ind in new_topics:\n",
    "            new_rank[ind] = rank[ind]\n",
    "    else:\n",
    "        new_rank = rank.copy()\n",
    "        \n",
    "    items = sorted(new_rank.items(), key=lambda t: t[1])[::-1][:n]\n",
    "    for index, value in items:\n",
    "        print(f\"{filenames[index][:-5]}: {value}\")"
   ]
  },
  {
   "cell_type": "code",
   "execution_count": 17,
   "metadata": {},
   "outputs": [
    {
     "name": "stdout",
     "output_type": "stream",
     "text": [
      "Английский_язык: 6.7102441063494815\n",
      "США: 4.666826841990531\n",
      "Франция: 3.891332065960341\n",
      "Великобритания: 3.755379111713282\n",
      "Германия: 3.045402505156282\n",
      "Соединённые_Штаты_Америки: 2.9824853687421458\n",
      "Италия: 2.411497480410388\n",
      "СССР: 2.385908911034201\n",
      "Викисклад: 2.308323432805024\n",
      "Латинский_язык: 2.305412331063708\n"
     ]
    }
   ],
   "source": [
    "page_rank(rank=rank)"
   ]
  },
  {
   "cell_type": "code",
   "execution_count": 24,
   "metadata": {},
   "outputs": [
    {
     "name": "stdout",
     "output_type": "stream",
     "text": [
      "Армстронг,_Луи: 0.21913073924572785\n",
      "Армстронг,_Нил_Олден: 0.08204167651131537\n",
      "Армстронг,_Нил: 0.07772736651558698\n",
      "Армстронг,_Билли_Джо: 0.06033081219855766\n",
      "Армстронг,_Алан: 0.05467384689837547\n",
      "Армстронг_(фамилия): 0.054339929130478144\n",
      "Армстронг,_Эдвин: 0.048724294245225605\n",
      "Армстронг,_Лэнс: 0.047655826559074285\n",
      "Билли_Джо_Армстронг: 0.04497463456555407\n",
      "Армстронг,_Крэйг: 0.03901933675387252\n"
     ]
    }
   ],
   "source": [
    "page_rank(rank=rank, word='армстронг')"
   ]
  },
  {
   "cell_type": "code",
   "execution_count": null,
   "metadata": {},
   "outputs": [],
   "source": []
  }
 ],
 "metadata": {
  "kernelspec": {
   "display_name": "Python 3",
   "language": "python",
   "name": "python3"
  },
  "language_info": {
   "codemirror_mode": {
    "name": "ipython",
    "version": 3
   },
   "file_extension": ".py",
   "mimetype": "text/x-python",
   "name": "python",
   "nbconvert_exporter": "python",
   "pygments_lexer": "ipython3",
   "version": "3.6.0"
  }
 },
 "nbformat": 4,
 "nbformat_minor": 2
}
