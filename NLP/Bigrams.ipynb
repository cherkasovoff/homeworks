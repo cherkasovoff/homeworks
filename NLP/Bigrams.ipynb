{
 "cells": [
  {
   "cell_type": "code",
   "execution_count": 1,
   "metadata": {},
   "outputs": [],
   "source": [
    "import pickle\n",
    "from typing import List\n",
    "\n",
    "from nltk.tokenize import RegexpTokenizer\n",
    "import numpy as np\n",
    "from tqdm import tqdm"
   ]
  },
  {
   "cell_type": "code",
   "execution_count": 2,
   "metadata": {},
   "outputs": [],
   "source": [
    "class BigramModel:\n",
    "    def __init__(self):\n",
    "        self.tokenizer = RegexpTokenizer(r'\\w+')\n",
    "\n",
    "        self.vocab = set()\n",
    "        self.occur_dict = []\n",
    "        self.freq_dict = []\n",
    "        \n",
    "    @property\n",
    "    def vocab_size(self):\n",
    "        return len(self.vocab)\n",
    "    \n",
    "    def token_pos(self, token: str):\n",
    "        return self.vocab.index(token)\n",
    "        \n",
    "    def _tokenize(self, texts: List[str]):\n",
    "        result = []\n",
    "        for text in texts:\n",
    "            tokens = self.tokenizer.tokenize(text.lower())\n",
    "            result.extend(tokens)\n",
    "            \n",
    "        return result\n",
    "    \n",
    "    def fit(self, data: List[str]):\n",
    "        tokens = self._tokenize(data)\n",
    "        self.vocab = list(set(tokens))\n",
    "\n",
    "        vocab_dict = {self.vocab[i]: i for i in range(self.vocab_size)}\n",
    "        occur_dict = [[1] * self.vocab_size] * self.vocab_size\n",
    "        freq_dict = [[1] * self.vocab_size] * self.vocab_size\n",
    "#         occur_dict = {v: dict(vocab_dict) for v in self.vocab}\n",
    "#         freq_dict = {v: dict(vocab_dict) for v in self.vocab}\n",
    "        \n",
    "        tokens_inds = [vocab_dict[token] for token in tqdm(tokens)]\n",
    "        for i in tqdm(range(0, len(tokens_inds)-1)):\n",
    "#             w_1, w_2 = self.token_pos(tokens[i]), self.token_pos(tokens[i+1])\n",
    "            w_1, w_2 = tokens_inds[i], tokens_inds[i+1]\n",
    "            occur_dict[w_1][w_2] += 1\n",
    "                \n",
    "        c_w = [sum(occur_dict[self.token_pos(v)]) for v in tqdm(self.vocab)]\n",
    "        for v in tqdm(range(self.vocab_size)):\n",
    "            v_c_w = c_w[v]\n",
    "            for b in range(self.vocab_size):\n",
    "                freq_dict[v][b] = occur_dict[v][b] / v_c_w\n",
    "        \n",
    "        self.occur_dict = occur_dict\n",
    "        self.freq_dict = freq_dict\n",
    "        \n",
    "    def sentence_prob(self, sentence: str) -> float:\n",
    "        tokens = self._tokenize([sentence])\n",
    "        \n",
    "        result = 1\n",
    "#         probs = []\n",
    "        tokens_inds = [self.token_pos(token) for token in tokens]\n",
    "        for i in range(0, len(tokens_inds)-1, 2):\n",
    "#             w_1, w_2 = self.token_pos(tokens[i]), self.token_pos(tokens[i+1])\n",
    "            w_1, w_2 = tokens_inds[i], tokens_inds[i+1]\n",
    "            bigram_prob = self.freq_dict[w_1][w_2]\n",
    "#             bigram_prob = self.freq_dict[tokens[i]][tokens[i+1]] # np.log()\n",
    "            result *= bigram_prob\n",
    "#             probs.append(bigram_prob)\n",
    "\n",
    "        return result\n",
    "    \n",
    "    def top_freq(self, word: str, count: int = 10):\n",
    "        vocab_dict = {}\n",
    "        for v_word, freq in zip(self.vocab, self.freq_dict[self.token_pos(word)]):\n",
    "            vocab_dict[v_word] = freq\n",
    "\n",
    "        vocab_dict = sorted(\n",
    "            vocab_dict.items(), key=lambda x: x[1], reverse=True\n",
    "        )\n",
    "\n",
    "        return vocab_dict[:count]\n",
    "    \n",
    "    def predict(self, sentence: str, count: int):\n",
    "        new_sentence = sentence\n",
    "        for _ in range(count):\n",
    "            last_word = new_sentence.split(' ')[-1]\n",
    "            word_pos = self.token_pos(last_word)\n",
    "            probs = self.freq_dict[word_pos]\n",
    "            word = np.random.choice(self.vocab, p=probs)\n",
    "            new_sentence += \" \" + word\n",
    "            \n",
    "        return new_sentence"
   ]
  },
  {
   "cell_type": "code",
   "execution_count": 3,
   "metadata": {},
   "outputs": [],
   "source": [
    "with open('data/all_news.pkl', 'rb') as f:\n",
    "    news = pickle.load(f)\n",
    "# news = np.random.choice(news, 100)\n",
    "data = [topic['body'] for topic in news]"
   ]
  },
  {
   "cell_type": "code",
   "execution_count": 4,
   "metadata": {},
   "outputs": [],
   "source": [
    "model = BigramModel()"
   ]
  },
  {
   "cell_type": "code",
   "execution_count": 5,
   "metadata": {},
   "outputs": [
    {
     "name": "stderr",
     "output_type": "stream",
     "text": [
      "100%|██████████| 3840719/3840719 [00:01<00:00, 3115049.09it/s]\n",
      "100%|██████████| 3840718/3840718 [00:01<00:00, 3035580.35it/s]\n",
      "100%|██████████| 190719/190719 [22:09<00:00, 143.40it/s]\n",
      "100%|██████████| 190719/190719 [1:00:51<00:00, 52.23it/s]\n"
     ]
    }
   ],
   "source": [
    "model.fit(data)"
   ]
  },
  {
   "cell_type": "code",
   "execution_count": null,
   "metadata": {},
   "outputs": [],
   "source": []
  },
  {
   "cell_type": "code",
   "execution_count": 6,
   "metadata": {},
   "outputs": [
    {
     "data": {
      "text/plain": [
       "0.0017978700894991041"
      ]
     },
     "execution_count": 6,
     "metadata": {},
     "output_type": "execute_result"
    }
   ],
   "source": [
    "model.sentence_prob(\"сегодня я как\")"
   ]
  },
  {
   "cell_type": "code",
   "execution_count": 7,
   "metadata": {},
   "outputs": [
    {
     "data": {
      "text/plain": [
       "[('в', 0.044158943820776564),\n",
       " ('и', 0.02211271067859922),\n",
       " ('на', 0.017701628476396877),\n",
       " ('что', 0.012350930945962941),\n",
       " ('с', 0.010259121003255166),\n",
       " ('по', 0.00996890190768205),\n",
       " ('не', 0.009288499361393964),\n",
       " ('из', 0.006127591724737358),\n",
       " ('за', 0.005252965629873417),\n",
       " ('о', 0.004848891350652385)]"
      ]
     },
     "execution_count": 7,
     "metadata": {},
     "output_type": "execute_result"
    }
   ],
   "source": [
    "model.top_freq(\"я\")"
   ]
  },
  {
   "cell_type": "code",
   "execution_count": 8,
   "metadata": {},
   "outputs": [
    {
     "data": {
      "text/plain": [
       "'сегодня я увидел как без защиту там пострадавшей 900 зеркальных на являемся с и'"
      ]
     },
     "execution_count": 8,
     "metadata": {},
     "output_type": "execute_result"
    }
   ],
   "source": [
    "model.predict(\"сегодня я увидел как\", 10)"
   ]
  },
  {
   "cell_type": "code",
   "execution_count": null,
   "metadata": {},
   "outputs": [],
   "source": []
  }
 ],
 "metadata": {
  "kernelspec": {
   "display_name": "Python 3",
   "language": "python",
   "name": "python3"
  },
  "language_info": {
   "codemirror_mode": {
    "name": "ipython",
    "version": 3
   },
   "file_extension": ".py",
   "mimetype": "text/x-python",
   "name": "python",
   "nbconvert_exporter": "python",
   "pygments_lexer": "ipython3",
   "version": "3.7.4"
  }
 },
 "nbformat": 4,
 "nbformat_minor": 4
}
