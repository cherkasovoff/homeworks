{
 "cells": [
  {
   "cell_type": "code",
   "execution_count": 1,
   "metadata": {},
   "outputs": [],
   "source": [
    "import pickle\n",
    "import re\n",
    "from tqdm import tqdm\n",
    "import binascii\n",
    "import numpy as np\n",
    "import random\n",
    "import pandas as pd"
   ]
  },
  {
   "cell_type": "code",
   "execution_count": 121,
   "metadata": {},
   "outputs": [],
   "source": [
    "news = pd.DataFrame()"
   ]
  },
  {
   "cell_type": "code",
   "execution_count": 122,
   "metadata": {},
   "outputs": [],
   "source": [
    "news_temp = pd.read_csv(\"data/24.csv\", index_col=0)"
   ]
  },
  {
   "cell_type": "code",
   "execution_count": 124,
   "metadata": {},
   "outputs": [],
   "source": [
    "news_temp = pd.read_csv(\"data/lenta.csv\", index_col=0)"
   ]
  },
  {
   "cell_type": "code",
   "execution_count": 126,
   "metadata": {},
   "outputs": [],
   "source": [
    "news_temp = pd.read_csv(\"data/vesti.csv\", index_col=0)"
   ]
  },
  {
   "cell_type": "code",
   "execution_count": 127,
   "metadata": {},
   "outputs": [],
   "source": [
    "news = pd.concat([news, news_temp])"
   ]
  },
  {
   "cell_type": "code",
   "execution_count": 128,
   "metadata": {},
   "outputs": [
    {
     "data": {
      "text/plain": [
       "(8368, 4)"
      ]
     },
     "execution_count": 128,
     "metadata": {},
     "output_type": "execute_result"
    }
   ],
   "source": [
    "news.shape"
   ]
  },
  {
   "cell_type": "code",
   "execution_count": 132,
   "metadata": {},
   "outputs": [
    {
     "data": {
      "text/plain": [
       "date                                            2019.05.19\n",
       "url            https://www.vestifinance.ru/articles/119411\n",
       "title    Россия может принять решение о выдаче российск...\n",
       "text     Прямой ЭфирЗапрет Китая на импорт отходов ожив...\n",
       "Name: 22, dtype: object"
      ]
     },
     "execution_count": 132,
     "metadata": {},
     "output_type": "execute_result"
    }
   ],
   "source": [
    "news.iloc[5287]"
   ]
  },
  {
   "cell_type": "code",
   "execution_count": 100,
   "metadata": {},
   "outputs": [
    {
     "data": {
      "text/html": [
       "<div>\n",
       "<style scoped>\n",
       "    .dataframe tbody tr th:only-of-type {\n",
       "        vertical-align: middle;\n",
       "    }\n",
       "\n",
       "    .dataframe tbody tr th {\n",
       "        vertical-align: top;\n",
       "    }\n",
       "\n",
       "    .dataframe thead th {\n",
       "        text-align: right;\n",
       "    }\n",
       "</style>\n",
       "<table border=\"1\" class=\"dataframe\">\n",
       "  <thead>\n",
       "    <tr style=\"text-align: right;\">\n",
       "      <th></th>\n",
       "      <th>date</th>\n",
       "      <th>url</th>\n",
       "      <th>title</th>\n",
       "      <th>text</th>\n",
       "    </tr>\n",
       "  </thead>\n",
       "  <tbody>\n",
       "    <tr>\n",
       "      <th>3014</th>\n",
       "      <td>2019.04.21</td>\n",
       "      <td>https://vesti.ru/doc.html?id=3148849&amp;cid=680</td>\n",
       "      <td>Тарасенко помог \"Сент-Луису\" разгромить \"Сан-Х...</td>\n",
       "      <td>StLouisBlues/Twitter В Сан-Хосе завершилась п...</td>\n",
       "    </tr>\n",
       "    <tr>\n",
       "      <th>3015</th>\n",
       "      <td>2019.04.21</td>\n",
       "      <td>https://vesti.ru/doc.html?id=3148847&amp;cid=8</td>\n",
       "      <td>В Уганде перевернулась лодка: два человека пог...</td>\n",
       "      <td>Global Look Press В воскресенье, 19 мая, на о...</td>\n",
       "    </tr>\n",
       "    <tr>\n",
       "      <th>3016</th>\n",
       "      <td>2019.04.21</td>\n",
       "      <td>https://vesti.ru/doc.html?id=3148846&amp;cid=680</td>\n",
       "      <td>Илья Воробьев: немного переудалялись в игре со...</td>\n",
       "      <td>Тема: twitter.com Главный тренер сборной Росси...</td>\n",
       "    </tr>\n",
       "    <tr>\n",
       "      <th>3017</th>\n",
       "      <td>2019.04.21</td>\n",
       "      <td>https://vesti.ru/doc.html?id=3148838&amp;cid=5</td>\n",
       "      <td>Штаб Зеленского обещает \"фишечки\" на церемонии...</td>\n",
       "      <td>Тема:В Киеве все выходные готовились к инаугур...</td>\n",
       "    </tr>\n",
       "    <tr>\n",
       "      <th>3018</th>\n",
       "      <td>2019.04.21</td>\n",
       "      <td>https://vesti.ru/doc.html?id=3148843&amp;cid=8</td>\n",
       "      <td>Взрыв гранаты во время концерта в Колумбии: се...</td>\n",
       "      <td>Global Look Press На северо-востоке Колумбии ...</td>\n",
       "    </tr>\n",
       "  </tbody>\n",
       "</table>\n",
       "</div>"
      ],
      "text/plain": [
       "            date                                           url  \\\n",
       "3014  2019.04.21  https://vesti.ru/doc.html?id=3148849&cid=680   \n",
       "3015  2019.04.21    https://vesti.ru/doc.html?id=3148847&cid=8   \n",
       "3016  2019.04.21  https://vesti.ru/doc.html?id=3148846&cid=680   \n",
       "3017  2019.04.21    https://vesti.ru/doc.html?id=3148838&cid=5   \n",
       "3018  2019.04.21    https://vesti.ru/doc.html?id=3148843&cid=8   \n",
       "\n",
       "                                                  title  \\\n",
       "3014  Тарасенко помог \"Сент-Луису\" разгромить \"Сан-Х...   \n",
       "3015  В Уганде перевернулась лодка: два человека пог...   \n",
       "3016  Илья Воробьев: немного переудалялись в игре со...   \n",
       "3017  Штаб Зеленского обещает \"фишечки\" на церемонии...   \n",
       "3018  Взрыв гранаты во время концерта в Колумбии: се...   \n",
       "\n",
       "                                                   text  \n",
       "3014   StLouisBlues/Twitter В Сан-Хосе завершилась п...  \n",
       "3015   Global Look Press В воскресенье, 19 мая, на о...  \n",
       "3016  Тема: twitter.com Главный тренер сборной Росси...  \n",
       "3017  Тема:В Киеве все выходные готовились к инаугур...  \n",
       "3018   Global Look Press На северо-востоке Колумбии ...  "
      ]
     },
     "execution_count": 100,
     "metadata": {},
     "output_type": "execute_result"
    }
   ],
   "source": [
    "news.tail()"
   ]
  },
  {
   "cell_type": "code",
   "execution_count": 131,
   "metadata": {},
   "outputs": [],
   "source": [
    "news.dropna(subset=[\"text\"], inplace=True)"
   ]
  },
  {
   "cell_type": "code",
   "execution_count": 113,
   "metadata": {},
   "outputs": [],
   "source": [
    "news = news.to_dict(\"records\")"
   ]
  },
  {
   "cell_type": "code",
   "execution_count": 2,
   "metadata": {},
   "outputs": [],
   "source": [
    "with open(\"data/all_news.pkl\", 'rb') as f:\n",
    "    news = pickle.load(f)"
   ]
  },
  {
   "cell_type": "code",
   "execution_count": 3,
   "metadata": {},
   "outputs": [],
   "source": [
    "def get_shingles(words, n=2):\n",
    "    for i in range (0,len(words)-n+1):\n",
    "        yield ' '.join(words[i:i+n])"
   ]
  },
  {
   "cell_type": "code",
   "execution_count": 4,
   "metadata": {},
   "outputs": [],
   "source": [
    "def clean(source):\n",
    "    stop_symbols = '.,!?:;-\\n\\r()—'\n",
    "\n",
    "    stop_words = ('это', 'как', 'так',\n",
    "                  'и', 'в', 'над',\n",
    "                  'к', 'до', 'не',\n",
    "                  'на', 'но', 'за',\n",
    "                  'то', 'с', 'ли',\n",
    "                  'а', 'во', 'от',\n",
    "                  'со', 'для', 'о',\n",
    "                  'же', 'ну', 'вы',\n",
    "                  'бы', 'что', 'кто',\n",
    "                  'он', 'она')\n",
    "\n",
    "    return [x for x in [y.strip(stop_symbols) for y in source.lower().split()] if x]"
   ]
  },
  {
   "cell_type": "code",
   "execution_count": 5,
   "metadata": {},
   "outputs": [
    {
     "name": "stderr",
     "output_type": "stream",
     "text": [
      "100%|██████████| 20016/20016 [00:05<00:00, 3919.71it/s]\n"
     ]
    }
   ],
   "source": [
    "shingle_sets = {}\n",
    "all_shingles = set()\n",
    "i = 0\n",
    "for document in tqdm(news):\n",
    "    shingles_in_doc = set()\n",
    "    clean_doc = clean(document['body'])\n",
    "    shingles = {i for i in get_shingles(clean_doc, 5)}\n",
    "    for shingle in shingles:\n",
    "        crc = binascii.crc32(shingle.encode('utf-8')) & 0xffffffff\n",
    "        shingles_in_doc.add(crc)\n",
    "        all_shingles.add(crc)\n",
    "    \n",
    "    shingle_sets[i] = shingles_in_doc\n",
    "    i += 1"
   ]
  },
  {
   "cell_type": "code",
   "execution_count": 6,
   "metadata": {},
   "outputs": [],
   "source": [
    "all_shingles = list(all_shingles)"
   ]
  },
  {
   "cell_type": "code",
   "execution_count": 7,
   "metadata": {},
   "outputs": [],
   "source": [
    "docs_num = len(news)"
   ]
  },
  {
   "cell_type": "code",
   "execution_count": 8,
   "metadata": {},
   "outputs": [],
   "source": [
    "sim_matrix = np.zeros((docs_num, docs_num))"
   ]
  },
  {
   "cell_type": "code",
   "execution_count": 9,
   "metadata": {},
   "outputs": [
    {
     "name": "stderr",
     "output_type": "stream",
     "text": [
      "100%|██████████| 20016/20016 [48:40<00:00,  6.85it/s]  \n"
     ]
    }
   ],
   "source": [
    "for i in tqdm(range(docs_num)):\n",
    "    doc_1 = shingle_sets[i]\n",
    "    for j in range(i+1, docs_num):\n",
    "        doc_2 = shingle_sets[j]\n",
    "        try:\n",
    "            sim = len(doc_1.intersection(doc_2)) / len(doc_1.union(doc_2))\n",
    "            sim_matrix[i][j] = sim\n",
    "            sim_matrix[j][i] = sim\n",
    "        except:\n",
    "            sim_matrix[i][j] = 0\n",
    "            sim_matrix[j][i] = 0"
   ]
  },
  {
   "cell_type": "code",
   "execution_count": 10,
   "metadata": {},
   "outputs": [],
   "source": [
    "threshold = 0.6"
   ]
  },
  {
   "cell_type": "code",
   "execution_count": 11,
   "metadata": {},
   "outputs": [],
   "source": [
    "sims = []\n",
    "duplicates = []\n",
    "is_break = False\n",
    "for i in range(docs_num):\n",
    "    for j in range(i+1, docs_num):\n",
    "        sim = sim_matrix[i][j]\n",
    "\n",
    "        if sim > threshold:\n",
    "            duplicates.append((i, j, sim))"
   ]
  },
  {
   "cell_type": "code",
   "execution_count": 12,
   "metadata": {},
   "outputs": [
    {
     "data": {
      "text/plain": [
       "[(12702, 14317, 0.624113475177305)]"
      ]
     },
     "execution_count": 12,
     "metadata": {},
     "output_type": "execute_result"
    }
   ],
   "source": [
    "duplicates"
   ]
  },
  {
   "cell_type": "code",
   "execution_count": 13,
   "metadata": {},
   "outputs": [
    {
     "data": {
      "text/plain": [
       "{'author': None,\n",
       " 'body': 'Посол России в Минске Дмитрий Мезенцев озвучил стратегию своей работы. Его слова приводит портал TUT.by. «У каждого посла единая задача — сделать все, чтобы отношения Белоруссии и России становились результативнее, предметнее и успешнее, чтобы споров было поменьше, а взаимной, успешной, результативной, обращенной в будущее работы было побольше», — заявил посол. Кроме того, Мезенцев сообщил, что считает Белоруссию «сплоченной, гордой и уверенной страной, огромным другом России, союзником и партнером». Он призвал делать все для того, чтобы укреплять узы этой дружбы. Мезенцев был назначен на пост чрезвычайного и уполномоченного посла России в Белоруссии 30 апреля, сразу после отставки Михаила Бабича, который также был специальным представителем президента России. СМИ писали, что решение об отставке Бабича было принято после неоднократных просьб, которые адресовал лично российскому лидеру Владимиру Путину президент Белоруссии Александр Лукашенко. С момента назначения Бабича на пост посла в августе 2018 года белорусская сторона неоднократно выражала недовольство его деятельностью. В частности, Лукашенко обвинял дипломата в том, что он дезинформировал журналистов по вопросу стоимости совместного с Москвой проекта АЭС, а МИД Белоруссии заявлял, что Бабич разрушает отношения между двумя странами. Тем не менее в Кремле сообщали, что Москва была довольна работой Бабича. В МИД России, комментируя его отставку, говорили, что смена посла не указывает на существование кризиса в отношениях двух стран. В Госдуме отмечали, что перед новым послом стоят те же задачи, которые ставились перед Бабичем: углубление интеграции в рамках Союзного государства. До назначения на должность посла Дмитрий Мезенцев с 2015 года был сенатором от Сахалинской области. До этого он занимал посты генерального секретаря Шанхайской организации сотрудничества (2013-2015) и губернатора Иркутской области (2009-2012).',\n",
       " 'date': Timestamp('2019-06-10 10:56:00'),\n",
       " 'title': 'Российский посол в\\xa0Белоруссии назвал свою главную задачу'}"
      ]
     },
     "execution_count": 13,
     "metadata": {},
     "output_type": "execute_result"
    }
   ],
   "source": [
    "news[12702]"
   ]
  },
  {
   "cell_type": "code",
   "execution_count": 14,
   "metadata": {},
   "outputs": [
    {
     "data": {
      "text/plain": [
       "{'author': None,\n",
       " 'body': 'Новый чрезвычайный и полномочный посол России в Белоруссии Дмитрий Мезенцев прибыл на свое место работы в Минск. Об этом сообщает ТАСС со ссылкой на пресс-службу российского посольства в Белоруссии. Мезенцев был назначен на пост чрезвычайного и уполномоченного посла России в Белоруссии 30 апреля, сразу после отставки Михаила Бабича, который также был специальным представителем президента России. СМИ писали, что решение об отставке Бабича было принято после неоднократных просьб, которые адресовал лично российскому лидеру Владимиру Путину президент Белоруссии Александр Лукашенко. С момента назначения Бабича на пост посла в августе 2018 года, белорусская сторона неоднократно выражала недовольство его деятельностью. В частности, Лукашенко обвинял дипломата в том, что он дезинформировал журналистов по вопросу стоимости совместного с Москвой проекта АЭС, а МИД Белоруссии заявлял, что Бабич разрушает отношения между двумя странами. Тем не менее в Кремле сообщали, что Москва была довольна работой Бабича. В МИД России, комментируя его отставку, говорили, что смена посла не указывает на существование кризиса в отношениях двух стран. В Госдуме отмечали, что перед новым послом стоят те же задачи, которые ставились перед Бабичем: углубление интеграции в рамках Союзного государства. До назначения на должность посла Дмитрий Мезенцев с 2015 года был сенатором от Сахалинской области. До этого он занимал посты генерального секретаря Шанхайской организации сотрудничества (2013-2015) и губернатора Иркутской области (2009-2012).',\n",
       " 'date': Timestamp('2019-06-02 19:06:00'),\n",
       " 'title': 'Заменивший Бабича посол прибыл на\\xa0работу в\\xa0Минск'}"
      ]
     },
     "execution_count": 14,
     "metadata": {},
     "output_type": "execute_result"
    }
   ],
   "source": [
    "news[14317]"
   ]
  },
  {
   "cell_type": "markdown",
   "metadata": {},
   "source": [
    "## MinHashing"
   ]
  },
  {
   "cell_type": "code",
   "execution_count": 14,
   "metadata": {},
   "outputs": [],
   "source": [
    "num_hashes = 25\n",
    "sim_matrix = np.zeros((docs_num, docs_num))"
   ]
  },
  {
   "cell_type": "code",
   "execution_count": 15,
   "metadata": {},
   "outputs": [],
   "source": [
    "def build_new_hashes():\n",
    "    new_list = []\n",
    "    for i in range(num_hashes):\n",
    "        r = random.sample(all_shingles, len(all_shingles))\n",
    "        new_list.append(r)\n",
    "        \n",
    "    return new_list"
   ]
  },
  {
   "cell_type": "code",
   "execution_count": 16,
   "metadata": {},
   "outputs": [],
   "source": [
    "def calculate_hash(matrix, shingles):\n",
    "    for i in range(len(matrix)):\n",
    "        if matrix[i] in shingles:\n",
    "            return i"
   ]
  },
  {
   "cell_type": "code",
   "execution_count": 17,
   "metadata": {},
   "outputs": [],
   "source": [
    "hashes = build_new_hashes()"
   ]
  },
  {
   "cell_type": "code",
   "execution_count": 18,
   "metadata": {},
   "outputs": [],
   "source": [
    "signatures = []"
   ]
  },
  {
   "cell_type": "code",
   "execution_count": 19,
   "metadata": {
    "scrolled": true
   },
   "outputs": [
    {
     "name": "stderr",
     "output_type": "stream",
     "text": [
      "100%|██████████| 20016/20016 [31:03<00:00, 10.74it/s]  \n"
     ]
    }
   ],
   "source": [
    "for i in tqdm(range(docs_num)):\n",
    "    signature = []\n",
    "    shingles_set = shingle_sets[i]\n",
    "    \n",
    "    for m in hashes:\n",
    "        cur_hash = calculate_hash(m, shingles_set)\n",
    "        signature.append(cur_hash)\n",
    "        \n",
    "    signatures.append(signature)"
   ]
  },
  {
   "cell_type": "code",
   "execution_count": 20,
   "metadata": {},
   "outputs": [],
   "source": [
    "sim_matrix = np.zeros((docs_num, docs_num))"
   ]
  },
  {
   "cell_type": "code",
   "execution_count": 21,
   "metadata": {},
   "outputs": [
    {
     "name": "stderr",
     "output_type": "stream",
     "text": [
      "100%|██████████| 20016/20016 [16:19<00:00, 20.43it/s] \n"
     ]
    }
   ],
   "source": [
    "for i in tqdm(range(docs_num)):\n",
    "    signature1 = signatures[i]\n",
    "    for j in range(i + 1, docs_num):\n",
    "        signature2 = signatures[j]\n",
    "\n",
    "        count = 0\n",
    "        for k in range(num_hashes):\n",
    "            count += signature1[k] == signature2[k]\n",
    "\n",
    "        sim_matrix[i][j] = (count / num_hashes)\n",
    "        sim_matrix[j][i] = (count / num_hashes)"
   ]
  },
  {
   "cell_type": "code",
   "execution_count": null,
   "metadata": {},
   "outputs": [],
   "source": []
  },
  {
   "cell_type": "code",
   "execution_count": 24,
   "metadata": {},
   "outputs": [],
   "source": [
    "threshold = 0.6"
   ]
  },
  {
   "cell_type": "code",
   "execution_count": 26,
   "metadata": {
    "scrolled": true
   },
   "outputs": [],
   "source": [
    "sims = []\n",
    "duplicates = []\n",
    "is_break = False\n",
    "for i in range(docs_num):\n",
    "    for j in range(i+1, docs_num):\n",
    "        sim = sim_matrix[i][j]\n",
    "\n",
    "        texts = []\n",
    "        if sim > threshold:\n",
    "            duplicates.append((i, j, sim))\n",
    "#             texts.append(news[j]['text'])\n",
    "\n",
    "#         if len(texts) > 0:\n",
    "#             sims.append((news[i]['text'], texts))"
   ]
  },
  {
   "cell_type": "code",
   "execution_count": 27,
   "metadata": {
    "scrolled": true
   },
   "outputs": [
    {
     "data": {
      "text/plain": [
       "[(10050, 10288, 0.72),\n",
       " (10081, 10144, 0.68),\n",
       " (10930, 10933, 0.64),\n",
       " (10930, 10938, 0.76),\n",
       " (12589, 12594, 0.76),\n",
       " (12817, 14622, 0.64),\n",
       " (17385, 17489, 0.68)]"
      ]
     },
     "execution_count": 27,
     "metadata": {},
     "output_type": "execute_result"
    }
   ],
   "source": [
    "duplicates"
   ]
  },
  {
   "cell_type": "code",
   "execution_count": 30,
   "metadata": {},
   "outputs": [
    {
     "data": {
      "text/plain": [
       "{'author': None,\n",
       " 'body': 'Иран не будет вести переговоры в случае сохранения санкций против него. Такое заявление сделал в Twitter советник президента Ирана Хесамоддин Ашна. «Заявление Америки о готовности вести переговоры с сохранением угроз и санкций неприемлемо», — написал Ашна. Он также отметил, что Тегеран не хочет войны, но и не может считать приемлемым санкционный режим. 23 июня президент США Дональд Трамп заявил, что возможная новая ядерная сделка с Ираном может быть заключена в разных формах, но она в любом случае должна предотвратить появление у Исламской Республики ядерного оружия. 21 июня Трамп сообщил, что остановил удар Вооруженных сил США по Ирану за десять минут до того, как он должен был произойти. Через день он опроверг собственные слова и пояснил, что лишь на время остановил атаку. 20 июня ВВС Корпуса стражей исламской революции сбили беспилотный разведывательный аппарат США. Американская сторона сначала опровергла это сообщение, но затем признала, что Иран сбил БПЛА RQ-4A Global Hawk — один из крупнейших американских беспилотников. Отношения двух стран обострились после того, как в начале мая 2018-го Трамп объявил об одностороннем выходе Вашингтона из ядерной сделки 2015 года и возобновлении санкций против Тегерана. Официальных дипломатических отношений между США и Ираном не существует с 1979 года, когда в ходе Исламской революции было захвачено американское посольство в Тегеране и 52 американца в течение 444 дней удерживались в заложниках.',\n",
       " 'date': Timestamp('2019-06-24 12:31:00'),\n",
       " 'title': 'Иран отказался от\\xa0переговоров с\\xa0США'}"
      ]
     },
     "execution_count": 30,
     "metadata": {},
     "output_type": "execute_result"
    }
   ],
   "source": [
    "news[10081]"
   ]
  },
  {
   "cell_type": "code",
   "execution_count": 31,
   "metadata": {},
   "outputs": [
    {
     "data": {
      "text/plain": [
       "{'author': None,\n",
       " 'body': 'США будут готовы отменить санкции против Ирана в случае заключения новой всеобъемлющей сделки. Такое заявление сделал спецпредставитель США по Ирану Брайан Хук, передает Reuters. «Новая сделка должна быть действительно всеобъемлющей, включая решения ядерной проблемы, проблемы баллистических ракет, прав человека», — отметил Хук. Он добавил, что только в таком случае США смогут полностью отменить санкции и восстановить дипломатические отношения с Ираном. В данный же момент, подчеркнул Хук, Вашингтон продолжит экономическое давление на Тегеран. При этом США оставляют возможность провести переговоры. «Иран знает, как с нами связаться», — сказал спецпредставитель. Ранее советник президента Ирана Хесамоддин Ашна заявил, что Иран не будет вести переговоры в случае сохранения санкций против него. 23 июня президент США Дональд Трамп заявил, что возможная новая ядерная сделка с Ираном может быть заключена в разных формах, но она в любом случае должна предотвратить появление у Исламской Республики ядерного оружия. 21 июня Трамп сообщил, что остановил удар Вооруженных сил США по Ирану за десять минут до того, как он должен был произойти. Через день он опроверг собственные слова и пояснил, что лишь на время остановил атаку. 20 июня ВВС Корпуса стражей исламской революции сбили беспилотный разведывательный аппарат США. Американская сторона сначала опровергла это сообщение, но затем признала, что Иран сбил БПЛА RQ-4A Global Hawk — один из крупнейших американских беспилотников. Отношения двух стран обострились после того, как в начале мая 2018-го Трамп объявил об одностороннем выходе Вашингтона из ядерной сделки 2015 года и возобновлении санкций против Тегерана. Официальных дипломатических отношений между США и Ираном не существует с 1979 года, когда в ходе Исламской революции было захвачено американское посольство в Тегеране и 52 американца в течение 444 дней удерживались в заложниках.',\n",
       " 'date': Timestamp('2019-06-24 16:12:00'),\n",
       " 'title': 'США назвали условие снятия санкций против Ирана'}"
      ]
     },
     "execution_count": 31,
     "metadata": {},
     "output_type": "execute_result"
    }
   ],
   "source": [
    "news[10144]"
   ]
  },
  {
   "cell_type": "code",
   "execution_count": null,
   "metadata": {},
   "outputs": [],
   "source": []
  },
  {
   "cell_type": "code",
   "execution_count": null,
   "metadata": {},
   "outputs": [],
   "source": []
  }
 ],
 "metadata": {
  "kernelspec": {
   "display_name": "Python 3",
   "language": "python",
   "name": "python3"
  },
  "language_info": {
   "codemirror_mode": {
    "name": "ipython",
    "version": 3
   },
   "file_extension": ".py",
   "mimetype": "text/x-python",
   "name": "python",
   "nbconvert_exporter": "python",
   "pygments_lexer": "ipython3",
   "version": "3.7.4"
  }
 },
 "nbformat": 4,
 "nbformat_minor": 4
}
