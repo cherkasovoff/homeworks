{
 "cells": [
  {
   "cell_type": "markdown",
   "metadata": {},
   "source": [
    "## 1. Напишите функцию конвертации текста, представленном в шестнадцатеричном виде, в base64."
   ]
  },
  {
   "cell_type": "code",
   "execution_count": 1,
   "metadata": {},
   "outputs": [],
   "source": [
    "import string"
   ]
  },
  {
   "cell_type": "code",
   "execution_count": 2,
   "metadata": {},
   "outputs": [],
   "source": [
    "alphabet_chars = string.ascii_uppercase + string.ascii_lowercase + string.digits + '+/'"
   ]
  },
  {
   "cell_type": "code",
   "execution_count": 3,
   "metadata": {},
   "outputs": [],
   "source": [
    "alphabet = {}\n",
    "\n",
    "for i in range(64):\n",
    "    alphabet[bin(i)[2:].zfill(6)] = alphabet_chars[i]"
   ]
  },
  {
   "cell_type": "code",
   "execution_count": 4,
   "metadata": {},
   "outputs": [],
   "source": [
    "def hex_to_binary(hex_str):\n",
    "    b = bin(int(hex_str, 16))[2:].zfill(8)\n",
    "        \n",
    "    return b"
   ]
  },
  {
   "cell_type": "code",
   "execution_count": 5,
   "metadata": {},
   "outputs": [],
   "source": [
    "def convert(hex_str):\n",
    "    splitted = [hex_str[i:i+2] for i in range(0, len(hex_str), 2)]\n",
    "    \n",
    "    all_str = \"\"\n",
    "    for i in splitted:\n",
    "        all_str += hex_to_binary(i)\n",
    "        \n",
    "    result = \"\"\n",
    "    for i in range(0, len(all_str), 6):\n",
    "        cur_char = all_str[i:i+6]\n",
    "        if len(cur_char) == 2:\n",
    "            result += alphabet[cur_char+\"0000\"]\n",
    "            result += \"==\"\n",
    "        elif len(cur_char) == 4:\n",
    "            result += alphabet[cur_char+\"00\"]\n",
    "            result += \"=\"\n",
    "        elif len(cur_char) == 6:\n",
    "            result += alphabet[cur_char]\n",
    "        \n",
    "    return result"
   ]
  },
  {
   "cell_type": "code",
   "execution_count": 6,
   "metadata": {},
   "outputs": [],
   "source": [
    "input_data = \"49276d207374756479696e672043727970746f677261706879206c696b6520436c6175646520456c776f6f64205368616e6e6f6e21\""
   ]
  },
  {
   "cell_type": "code",
   "execution_count": 7,
   "metadata": {},
   "outputs": [],
   "source": [
    "output_data = convert(input_data)"
   ]
  },
  {
   "cell_type": "code",
   "execution_count": 8,
   "metadata": {},
   "outputs": [
    {
     "data": {
      "text/plain": [
       "'SSdtIHN0dWR5aW5nIENyeXB0b2dyYXBoeSBsaWtlIENsYXVkZSBFbHdvb2QgU2hhbm5vbiE='"
      ]
     },
     "execution_count": 8,
     "metadata": {},
     "output_type": "execute_result"
    }
   ],
   "source": [
    "output_data"
   ]
  },
  {
   "cell_type": "code",
   "execution_count": 9,
   "metadata": {},
   "outputs": [
    {
     "data": {
      "text/plain": [
       "True"
      ]
     },
     "execution_count": 9,
     "metadata": {},
     "output_type": "execute_result"
    }
   ],
   "source": [
    "output_data == \"SSdtIHN0dWR5aW5nIENyeXB0b2dyYXBoeSBsaWtlIENsYXVkZSBFbHdvb2QgU2hhbm5vbiE=\""
   ]
  },
  {
   "cell_type": "markdown",
   "metadata": {},
   "source": [
    "## 2. Напишите функцию, которая принимает в качестве параметров два буфера одинаковой длины и производит операцию XOR над ними."
   ]
  },
  {
   "cell_type": "code",
   "execution_count": 1,
   "metadata": {},
   "outputs": [],
   "source": [
    "def hex_to_binary(hex_str):\n",
    "    b = bin(int(hex_str, 16))[2:].zfill(8)\n",
    "        \n",
    "    return b"
   ]
  },
  {
   "cell_type": "code",
   "execution_count": 2,
   "metadata": {},
   "outputs": [],
   "source": [
    "a = \"506561636520416c6c204f7665722054686520576f726c64\"\n",
    "b = \"4949544353551c0111001f010100061a021f010100061a02\""
   ]
  },
  {
   "cell_type": "code",
   "execution_count": 3,
   "metadata": {},
   "outputs": [],
   "source": [
    "bin_a = hex_to_binary(a)\n",
    "bin_b = hex_to_binary(b) \n",
    "\n",
    "result = \"\"\n",
    "for i in range(len(bin_a)):\n",
    "    xor = int(bin_a[i] != bin_b[i])\n",
    "    result += str(xor)"
   ]
  },
  {
   "cell_type": "code",
   "execution_count": 4,
   "metadata": {},
   "outputs": [],
   "source": [
    "test = \"192C352036755D6D7D2050776472264E6A7A21566F747666\".lower()"
   ]
  },
  {
   "cell_type": "code",
   "execution_count": 5,
   "metadata": {},
   "outputs": [],
   "source": [
    "result = hex(int(result, 2))[2:]"
   ]
  },
  {
   "cell_type": "code",
   "execution_count": 6,
   "metadata": {},
   "outputs": [
    {
     "data": {
      "text/plain": [
       "True"
      ]
     },
     "execution_count": 6,
     "metadata": {},
     "output_type": "execute_result"
    }
   ],
   "source": [
    "result == test"
   ]
  },
  {
   "cell_type": "markdown",
   "metadata": {},
   "source": [
    "## 3. Дана строка закодированная в 16-виде. Данную строку получили путем операции XOR некоторого текста с одним символом. Расшифруйте это сообщение. "
   ]
  },
  {
   "cell_type": "code",
   "execution_count": 1,
   "metadata": {},
   "outputs": [],
   "source": [
    "from itertools import cycle\n",
    "from collections import Counter\n",
    "import string\n",
    "\n",
    "def xor_crypt_string(data, key):\n",
    "    return ''.join(chr(ord(x) ^ ord(y)) for (x,y) in zip(data, cycle(key)))"
   ]
  },
  {
   "cell_type": "code",
   "execution_count": 2,
   "metadata": {},
   "outputs": [],
   "source": [
    "valid_chars = string.ascii_uppercase + string.ascii_lowercase + string.digits + '.,!?;:\\'- \\n'\n",
    "\n",
    "def validate_str(s):\n",
    "    return all(c in valid_chars for c in s)"
   ]
  },
  {
   "cell_type": "code",
   "execution_count": 3,
   "metadata": {},
   "outputs": [],
   "source": [
    "def get_text_from_hex(str_hex):\n",
    "    result = bytearray.fromhex(str_hex).decode(\"latin-1\")\n",
    "        \n",
    "    return result"
   ]
  },
  {
   "cell_type": "code",
   "execution_count": 4,
   "metadata": {},
   "outputs": [],
   "source": [
    "def decode_from_xor(text_data):\n",
    "    freq = Counter()\n",
    "\n",
    "    for i in text_data:\n",
    "        freq[i] += 1\n",
    "        \n",
    "    top_freq = [' ', 'e', 't', 'a', 'o']\n",
    "\n",
    "    possible_chars = []\n",
    "    for j in freq.most_common()[:5]:\n",
    "        for k in top_freq:\n",
    "            possible_chars.append(chr(ord(j[0]) ^ ord(k)))\n",
    "\n",
    "    result = \"\"\n",
    "    for key in possible_chars:\n",
    "        result = xor_crypt_string(text_data, key)\n",
    "        if validate_str(result):\n",
    "            result = key\n",
    "            break\n",
    "    else:\n",
    "        return\n",
    "    \n",
    "    return result"
   ]
  },
  {
   "cell_type": "code",
   "execution_count": 5,
   "metadata": {},
   "outputs": [],
   "source": [
    "data = '19367831362e3d2b2c353d362c783136783336372f343d3c3f3d7839342f39212b782839212b782c303d783a3d2b2c7831362c3d2a3d2b2c'"
   ]
  },
  {
   "cell_type": "code",
   "execution_count": 6,
   "metadata": {},
   "outputs": [],
   "source": [
    "data = get_text_from_hex(data)"
   ]
  },
  {
   "cell_type": "code",
   "execution_count": 7,
   "metadata": {},
   "outputs": [],
   "source": [
    "key = decode_from_xor(data)"
   ]
  },
  {
   "cell_type": "code",
   "execution_count": 8,
   "metadata": {},
   "outputs": [
    {
     "data": {
      "text/plain": [
       "('X', 'An investment in knowledge always pays the best interest')"
      ]
     },
     "execution_count": 8,
     "metadata": {},
     "output_type": "execute_result"
    }
   ],
   "source": [
    "key, xor_crypt_string(data, key)"
   ]
  },
  {
   "cell_type": "markdown",
   "metadata": {},
   "source": [
    "## 4. В качестве входных данных дается файл со строками в hex. Одна из этих строк зашифрована с помощью XOR на одно-символьном ключе. Найдите и расшифруйте эту строку."
   ]
  },
  {
   "cell_type": "code",
   "execution_count": 1,
   "metadata": {},
   "outputs": [],
   "source": [
    "from itertools import cycle\n",
    "from collections import Counter\n",
    "import string\n",
    "\n",
    "def xor_crypt_string(data, key):\n",
    "    return ''.join(chr(ord(x) ^ ord(y)) for (x,y) in zip(data, cycle(key)))"
   ]
  },
  {
   "cell_type": "code",
   "execution_count": 2,
   "metadata": {},
   "outputs": [],
   "source": [
    "valid_chars = string.ascii_uppercase + string.ascii_lowercase + string.digits + '.,!?;:\\'- \\n'\n",
    "\n",
    "def validate_str(s):\n",
    "    return all(c in valid_chars for c in s)"
   ]
  },
  {
   "cell_type": "code",
   "execution_count": 3,
   "metadata": {},
   "outputs": [],
   "source": [
    "def is_ascii(s):\n",
    "    return all(ord(c) < 128 for c in s)"
   ]
  },
  {
   "cell_type": "code",
   "execution_count": 4,
   "metadata": {},
   "outputs": [],
   "source": [
    "def get_text_from_hex(str_hex):\n",
    "    result = bytearray.fromhex(str_hex).decode(\"latin-1\")\n",
    "        \n",
    "    return result"
   ]
  },
  {
   "cell_type": "code",
   "execution_count": 5,
   "metadata": {},
   "outputs": [],
   "source": [
    "def decode_from_xor(text_data):\n",
    "    freq = Counter()\n",
    "\n",
    "    for i in text_data:\n",
    "        freq[i] += 1\n",
    "        \n",
    "    top_freq = [' ', 'e', 't', 'a', 'o']\n",
    "\n",
    "    possible_chars = []\n",
    "    for j in freq.most_common()[:5]:\n",
    "        for k in top_freq:\n",
    "            possible_chars.append(chr(ord(j[0]) ^ ord(k)))\n",
    "\n",
    "    result = \"\"\n",
    "    for key in possible_chars:\n",
    "        result = xor_crypt_string(text_data, key)\n",
    "        if validate_str(result):\n",
    "            result = key\n",
    "            break\n",
    "    else:\n",
    "        return\n",
    "    \n",
    "    return result"
   ]
  },
  {
   "cell_type": "code",
   "execution_count": 6,
   "metadata": {},
   "outputs": [],
   "source": [
    "data = []\n",
    "with open(\"task14.input\") as f:\n",
    "    for line in f:\n",
    "        data.append(line.strip())\n",
    "        \n",
    "data = list(map(get_text_from_hex, data))"
   ]
  },
  {
   "cell_type": "code",
   "execution_count": 7,
   "metadata": {},
   "outputs": [
    {
     "name": "stdout",
     "output_type": "stream",
     "text": [
      "373\n"
     ]
    }
   ],
   "source": [
    "for i, str_data in enumerate(data):\n",
    "    if is_ascii(str_data):\n",
    "        print(i)"
   ]
  },
  {
   "cell_type": "code",
   "execution_count": 8,
   "metadata": {},
   "outputs": [],
   "source": [
    "data = data[373]"
   ]
  },
  {
   "cell_type": "code",
   "execution_count": 9,
   "metadata": {},
   "outputs": [],
   "source": [
    "key = decode_from_xor(data)"
   ]
  },
  {
   "cell_type": "code",
   "execution_count": 10,
   "metadata": {},
   "outputs": [
    {
     "data": {
      "text/plain": [
       "('a', 'Kakim umnym ja sebja chuvstvuu')"
      ]
     },
     "execution_count": 10,
     "metadata": {},
     "output_type": "execute_result"
    }
   ],
   "source": [
    "key, xor_crypt_string(data, key)"
   ]
  },
  {
   "cell_type": "markdown",
   "metadata": {},
   "source": [
    "## 5. Реализуйте шифрование XOR'ом с повторяющимся ключом."
   ]
  },
  {
   "cell_type": "code",
   "execution_count": 1,
   "metadata": {},
   "outputs": [],
   "source": [
    "from itertools import cycle\n",
    "\n",
    "def xor_crypt_string(data, key):\n",
    "    return ''.join(chr(ord(x) ^ ord(y)) for (x,y) in zip(data, cycle(key)))"
   ]
  },
  {
   "cell_type": "code",
   "execution_count": 2,
   "metadata": {},
   "outputs": [],
   "source": [
    "key = \"Shannon\""
   ]
  },
  {
   "cell_type": "code",
   "execution_count": 3,
   "metadata": {},
   "outputs": [],
   "source": [
    "with open(\"task15.input\") as f:\n",
    "    data = f.read().strip()"
   ]
  },
  {
   "cell_type": "code",
   "execution_count": 4,
   "metadata": {},
   "outputs": [],
   "source": [
    "result = xor_crypt_string(data, key)"
   ]
  },
  {
   "cell_type": "code",
   "execution_count": 5,
   "metadata": {},
   "outputs": [],
   "source": [
    "def get_char_hex(char):\n",
    "    h = hex(ord(char))[2:]\n",
    "    if len(h) == 1:\n",
    "        h = f\"0{h}\"\n",
    "        \n",
    "    return h"
   ]
  },
  {
   "cell_type": "code",
   "execution_count": 6,
   "metadata": {},
   "outputs": [],
   "source": [
    "test_result = list(map(get_char_hex, result))"
   ]
  },
  {
   "cell_type": "code",
   "execution_count": 7,
   "metadata": {},
   "outputs": [],
   "source": [
    "true_result = \"00000000000000730b0e001a1d07311d150b0a4f1a3c4815060b4f083a0d0d0a4e0008730b13171e1b0f3d090d171d061d730e0e1c4e010f27010e000f034e370d070b001c0b730c141c070109733f0e1c020b4e0409134e272642736208000d031b37010f094e07072048030f1d060d731f0e1c054f013d4802010a0a0c210d000507010973090f0a4e1c0b301d130b4e1b0b3f0d020103021b3d01020f1a06013d1b4f\""
   ]
  },
  {
   "cell_type": "code",
   "execution_count": 8,
   "metadata": {},
   "outputs": [
    {
     "data": {
      "text/plain": [
       "True"
      ]
     },
     "execution_count": 8,
     "metadata": {},
     "output_type": "execute_result"
    }
   ],
   "source": [
    "''.join(test_result) == true_result"
   ]
  },
  {
   "cell_type": "markdown",
   "metadata": {},
   "source": [
    "## 6. Расшифруйте данные зашифрованные XOR'ом с повторяющимся ключом"
   ]
  },
  {
   "cell_type": "code",
   "execution_count": 1,
   "metadata": {},
   "outputs": [],
   "source": [
    "import string\n",
    "from itertools import cycle, product\n",
    "from collections import Counter, defaultdict"
   ]
  },
  {
   "cell_type": "code",
   "execution_count": 2,
   "metadata": {},
   "outputs": [],
   "source": [
    "alphabet_chars = string.ascii_uppercase + string.ascii_lowercase + string.digits + '+/'"
   ]
  },
  {
   "cell_type": "code",
   "execution_count": 3,
   "metadata": {},
   "outputs": [],
   "source": [
    "alphabet = {}\n",
    "\n",
    "for i in range(64):\n",
    "    alphabet[alphabet_chars[i]] = bin(i)[2:].zfill(6)"
   ]
  },
  {
   "cell_type": "code",
   "execution_count": 4,
   "metadata": {},
   "outputs": [],
   "source": [
    "valid_chars = string.ascii_uppercase + string.ascii_lowercase + string.digits + '.,!?;:\\'- \\n'\n",
    "\n",
    "def validate_str(s):\n",
    "    return all(c in valid_chars for c in s)"
   ]
  },
  {
   "cell_type": "code",
   "execution_count": 5,
   "metadata": {},
   "outputs": [],
   "source": [
    "def base64_to_hex(base64_str):\n",
    "    result = \"\"\n",
    "    for i in range(len(base64_str)):\n",
    "        if base64_str[i] == \"=\":\n",
    "            if i+1 == len(base64_str):\n",
    "                result = result[:-2]\n",
    "            else:\n",
    "                result = result[:-4]\n",
    "            break\n",
    "        result += alphabet[base64_str[i]]\n",
    "\n",
    "    final_result = \"\"\n",
    "    for i in range(0, len(result), 8):\n",
    "        cur_hex = hex(int(result[i:i+8], 2))[2:]\n",
    "        if len(cur_hex) == 1:\n",
    "            cur_hex = \"0\" + cur_hex\n",
    "        final_result += cur_hex\n",
    "        \n",
    "    return final_result"
   ]
  },
  {
   "cell_type": "code",
   "execution_count": 6,
   "metadata": {},
   "outputs": [],
   "source": [
    "def get_text_from_hex(str_hex):\n",
    "    result = bytearray.fromhex(str_hex).decode(\"latin-1\")\n",
    "        \n",
    "    return result"
   ]
  },
  {
   "cell_type": "code",
   "execution_count": 7,
   "metadata": {},
   "outputs": [],
   "source": [
    "def xor_crypt_string(data, key):\n",
    "    return ''.join(chr(ord(x) ^ ord(y)) for (x,y) in zip(data, cycle(key)))"
   ]
  },
  {
   "cell_type": "code",
   "execution_count": 8,
   "metadata": {},
   "outputs": [],
   "source": [
    "def define_key_length(str_data):\n",
    "    max_freq, max_len = 0, 0\n",
    "\n",
    "    for i in range(int(len(str_data)/2)):\n",
    "        offset_text = str_data[i+1:] + str_data[:i+1]\n",
    "        xor = xor_crypt_string(str_data, offset_text)\n",
    "\n",
    "        freq = Counter()\n",
    "        for j in xor:\n",
    "            freq[j] += 1\n",
    "\n",
    "        cur_freq = freq.most_common()[0][1]/len(str_data)\n",
    "\n",
    "        if cur_freq > max_freq:\n",
    "            max_freq = cur_freq\n",
    "            max_len = i+1  \n",
    "            \n",
    "    return max_len"
   ]
  },
  {
   "cell_type": "code",
   "execution_count": 9,
   "metadata": {},
   "outputs": [],
   "source": [
    "def decode_from_xor(text_data):\n",
    "    freq = Counter()\n",
    "\n",
    "    for i in text_data:\n",
    "        freq[i] += 1\n",
    "        \n",
    "    top_freq = [' ', 'e', 't', 'a', 'o']\n",
    "\n",
    "    possible_chars = []\n",
    "    for j in freq.most_common()[:5]:\n",
    "        for k in top_freq:\n",
    "            possible_chars.append(chr(ord(j[0]) ^ ord(k)))\n",
    "\n",
    "    result = \"\"\n",
    "    for key in possible_chars:\n",
    "        result = xor_crypt_string(text_data, key)\n",
    "        if validate_str(result):\n",
    "            result = key\n",
    "            break\n",
    "    else:\n",
    "        return\n",
    "    \n",
    "    return result"
   ]
  },
  {
   "cell_type": "code",
   "execution_count": 10,
   "metadata": {},
   "outputs": [],
   "source": [
    "def decode_text(text):\n",
    "    key_len = define_key_length(text)\n",
    "    \n",
    "    groups = defaultdict(str)\n",
    "    for i, char in enumerate(str_data):\n",
    "        groups[i % 22] += char\n",
    "        \n",
    "    top_freq = [' ', 'e', 't', 'a', 'o']\n",
    "    key_chars = []\n",
    "    for i, gr_text in groups.items():\n",
    "        cur_key = decode_from_xor(gr_text)\n",
    "        key_chars.append(cur_key)\n",
    "\n",
    "    key = ''.join(key_chars)\n",
    "    result = {'key': key,\n",
    "              'text': xor_crypt_string(text, key)}\n",
    "            \n",
    "    return result"
   ]
  },
  {
   "cell_type": "code",
   "execution_count": 11,
   "metadata": {},
   "outputs": [],
   "source": [
    "with open(\"task16.input\") as f:\n",
    "    data = f.read().strip()"
   ]
  },
  {
   "cell_type": "code",
   "execution_count": 12,
   "metadata": {
    "scrolled": true
   },
   "outputs": [],
   "source": [
    "hex_data = base64_to_hex(data)"
   ]
  },
  {
   "cell_type": "code",
   "execution_count": 13,
   "metadata": {},
   "outputs": [],
   "source": [
    "str_data = get_text_from_hex(hex_data)"
   ]
  },
  {
   "cell_type": "code",
   "execution_count": 14,
   "metadata": {},
   "outputs": [],
   "source": [
    "test = decode_text(str_data)"
   ]
  },
  {
   "cell_type": "code",
   "execution_count": 15,
   "metadata": {},
   "outputs": [
    {
     "data": {
      "text/plain": [
       "{'key': 'Robert Laurence Binyon',\n",
       " 'text': \"How dark, how quiet sleeps the vale below!\\nIn the dim farms, look, not a window shines:\\nDistantly heard among the lonely pines,\\nHow soft the languid autumn breezes flow\\nPast me, and kiss my hair, and cheek, and mouth!\\nHalf--veiled is the calm sky:\\nJupiter's kingly eye\\nAlone glows full in the unclouded South.\\n\\nAlas! and can sweet Night avail to heal\\nNot one of the world's wounds? Must I, even here,\\nStill listen with the mind's too wakeful ear\\nTo that sad sound, which in my flesh I feel;\\nSound of unresting, unrejoicing feet,\\nWith feverish steps or slow\\nFor ever, to and fro,\\nPacing the gay, thronged, friendless, stony street?\\n\\nNature is free; but Man the eternal slave\\nOf care and passion. Must I deem that true?\\nWith fields and quiet have we nought to do,\\nBecause our spirits for ever crave and crave,\\nAnd never found their satisfaction yet?\\nWorld, is thy heart so cold,\\nSo deeply weary and old,\\nThat thy sole business is but to forget?\\n\\nNo, no! these perfect trees, with whispering voice,\\nThese flowers, that have to thee a solace been,\\nAnd yet an alien solace, so serene\\nThey live, and in their life seem to rejoice;\\nLife how unlike to thine! These flowers, these trees,\\nAre children of one birth\\nWith thee, O Man; as Earth,\\nEarth, still so fair, for all thy ravages,\\n\\nIs sister to yon radiant Jupiter,\\nWho with such glorious and untroubled gaze\\nUpon his own course burning down Heaven's ways\\nAcross deep seas of darkness looks at her!\\nPerchance in his vast bosom he, too, keeps\\nLike ferment, like distress;\\nYet tranquil shines not less,\\nLord of the night, that round his splendour sleeps.\"}"
      ]
     },
     "execution_count": 15,
     "metadata": {},
     "output_type": "execute_result"
    }
   ],
   "source": [
    "test"
   ]
  },
  {
   "cell_type": "code",
   "execution_count": null,
   "metadata": {},
   "outputs": [],
   "source": []
  }
 ],
 "metadata": {
  "kernelspec": {
   "display_name": "Python 3",
   "language": "python",
   "name": "python3"
  },
  "language_info": {
   "codemirror_mode": {
    "name": "ipython",
    "version": 3
   },
   "file_extension": ".py",
   "mimetype": "text/x-python",
   "name": "python",
   "nbconvert_exporter": "python",
   "pygments_lexer": "ipython3",
   "version": "3.6.0"
  }
 },
 "nbformat": 4,
 "nbformat_minor": 2
}
