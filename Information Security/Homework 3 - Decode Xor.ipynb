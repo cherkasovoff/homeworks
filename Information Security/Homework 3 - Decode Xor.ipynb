{
 "cells": [
  {
   "cell_type": "code",
   "execution_count": 1,
   "metadata": {},
   "outputs": [],
   "source": [
    "def hex_to_binary(hex_str):\n",
    "    b = bin(int(hex_str, 16))[2:]\n",
    "        \n",
    "    return b"
   ]
  },
  {
   "cell_type": "code",
   "execution_count": 14,
   "metadata": {},
   "outputs": [],
   "source": [
    "def compare_texts(orig, new):\n",
    "    length = similarity = len(orig)\n",
    "    \n",
    "    new_xor = \"\"\n",
    "    for i in range(len(orig)):\n",
    "        if orig[i] != new[i]:\n",
    "            new_xor += \"1\"\n",
    "        else:\n",
    "            new_xor += \"0\"\n",
    "            \n",
    "    \n",
    "    for i in range(len(orig)):\n",
    "        if orig[i] != new_xor[i]:\n",
    "            similarity -= 1\n",
    "            \n",
    "    print(f\"{orig} : {new} : {new_xor} : {similarity}\")\n",
    "    \n",
    "    return similarity / length"
   ]
  },
  {
   "cell_type": "code",
   "execution_count": 16,
   "metadata": {},
   "outputs": [],
   "source": [
    "data = \"19367831362e3d2b2c353d362c783136783336372f343d3c3f3d7839342f39212b782839212b782c303d783a3d2b2c7831362c3d2a3d2b2c\""
   ]
  },
  {
   "cell_type": "code",
   "execution_count": 19,
   "metadata": {},
   "outputs": [],
   "source": [
    "data = \"1936\""
   ]
  },
  {
   "cell_type": "code",
   "execution_count": 20,
   "metadata": {},
   "outputs": [],
   "source": [
    "bin_data = hex_to_binary(data)"
   ]
  },
  {
   "cell_type": "code",
   "execution_count": 21,
   "metadata": {},
   "outputs": [
    {
     "data": {
      "text/plain": [
       "'1100100110110'"
      ]
     },
     "execution_count": 21,
     "metadata": {},
     "output_type": "execute_result"
    }
   ],
   "source": [
    "bin_data"
   ]
  },
  {
   "cell_type": "code",
   "execution_count": 22,
   "metadata": {},
   "outputs": [
    {
     "name": "stdout",
     "output_type": "stream",
     "text": [
      "1001001101101\n",
      "1100100110110 : 1001001101101 : 0101101011011 : 6\n",
      "0: 0.46153846153846156\n",
      "0010011011011\n",
      "1100100110110 : 0010011011011 : 1110111101101 : 6\n",
      "1: 0.46153846153846156\n",
      "0100110110110\n",
      "1100100110110 : 0100110110110 : 1000010000000 : 6\n",
      "2: 0.46153846153846156\n",
      "1001101101100\n",
      "1100100110110 : 1001101101100 : 0101001011010 : 6\n",
      "3: 0.46153846153846156\n",
      "0011011011001\n",
      "1100100110110 : 0011011011001 : 1111111101111 : 6\n",
      "4: 0.46153846153846156\n",
      "0110110110010\n",
      "1100100110110 : 0110110110010 : 1010010000100 : 6\n",
      "5: 0.46153846153846156\n",
      "1101101100100\n",
      "1100100110110 : 1101101100100 : 0001001010010 : 6\n",
      "6: 0.46153846153846156\n",
      "1011011001001\n",
      "1100100110110 : 1011011001001 : 0111111111111 : 6\n",
      "7: 0.46153846153846156\n",
      "0110110010011\n",
      "1100100110110 : 0110110010011 : 1010010100101 : 6\n",
      "8: 0.46153846153846156\n",
      "1101100100110\n",
      "1100100110110 : 1101100100110 : 0001000010000 : 6\n",
      "9: 0.46153846153846156\n",
      "1011001001101\n",
      "1100100110110 : 1011001001101 : 0111101111011 : 6\n",
      "10: 0.46153846153846156\n",
      "0110010011011\n",
      "1100100110110 : 0110010011011 : 1010110101101 : 6\n",
      "11: 0.46153846153846156\n",
      "1100100110110\n",
      "1100100110110 : 1100100110110 : 0000000000000 : 6\n",
      "12: 0.46153846153846156\n"
     ]
    }
   ],
   "source": [
    "cur_text = bin_data\n",
    "for i in range(len(bin_data)):\n",
    "    cur_text = cur_text[1:] + cur_text[:1]\n",
    "    print(cur_text)\n",
    "    similarity = compare_texts(bin_data, cur_text)\n",
    "    print(f\"{i}: {similarity}\")"
   ]
  },
  {
   "cell_type": "code",
   "execution_count": null,
   "metadata": {},
   "outputs": [],
   "source": []
  }
 ],
 "metadata": {
  "kernelspec": {
   "display_name": "Python 3",
   "language": "python",
   "name": "python3"
  },
  "language_info": {
   "codemirror_mode": {
    "name": "ipython",
    "version": 3
   },
   "file_extension": ".py",
   "mimetype": "text/x-python",
   "name": "python",
   "nbconvert_exporter": "python",
   "pygments_lexer": "ipython3",
   "version": "3.6.0"
  }
 },
 "nbformat": 4,
 "nbformat_minor": 2
}
