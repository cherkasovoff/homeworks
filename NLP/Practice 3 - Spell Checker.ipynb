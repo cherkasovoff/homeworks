{
 "cells": [
  {
   "cell_type": "code",
   "execution_count": 1,
   "metadata": {},
   "outputs": [],
   "source": [
    "from collections import Counter, defaultdict\n",
    "import operator\n",
    "import stringdist\n",
    "import os\n",
    "import re\n",
    "import pickle\n",
    "from tqdm import tqdm"
   ]
  },
  {
   "cell_type": "code",
   "execution_count": 2,
   "metadata": {},
   "outputs": [],
   "source": [
    "texts = []\n",
    "\n",
    "# for i in os.listdir('data'):\n",
    "#     for j in os.listdir(f'data/{i}'):\n",
    "#         file = os.listdir(f'data/{i}/{j}')[0]\n",
    "#         with open(f\"data/{i}/{j}/{file}\", encoding=\"utf-8\") as f:\n",
    "#             texts.append(f.read().replace(u'\\xa0', ' '))\n",
    "with open(\"data/all_news.pkl\", 'rb') as f:\n",
    "    news = pickle.load(f)\n",
    "    \n",
    "for doc in news:\n",
    "    texts.append(doc['body'])"
   ]
  },
  {
   "cell_type": "code",
   "execution_count": 3,
   "metadata": {},
   "outputs": [],
   "source": [
    "cnt = Counter()"
   ]
  },
  {
   "cell_type": "code",
   "execution_count": 4,
   "metadata": {},
   "outputs": [],
   "source": [
    "words = []\n",
    "pattern = \"[а-яА-Я]{3,}\"\n",
    "\n",
    "for text in texts:\n",
    "    text_words = text.split()\n",
    "    for word in text_words:\n",
    "        corrects = re.findall(pattern, word)\n",
    "        if len(corrects) == 1:\n",
    "            words.append(corrects[0].lower())"
   ]
  },
  {
   "cell_type": "code",
   "execution_count": 5,
   "metadata": {},
   "outputs": [],
   "source": [
    "for word in words:\n",
    "    cnt[word] += 1"
   ]
  },
  {
   "cell_type": "code",
   "execution_count": 6,
   "metadata": {},
   "outputs": [],
   "source": [
    "def find_nearest(word, n=10):\n",
    "    result = []\n",
    "    for cnt_word, count in cnt.items():\n",
    "        dist = stringdist.rdlevenshtein(word, cnt_word)\n",
    "        result.append((cnt_word, dist, count))\n",
    "        \n",
    "    result.sort(key=operator.itemgetter(1, 2))\n",
    "    \n",
    "    return result[:n]"
   ]
  },
  {
   "cell_type": "code",
   "execution_count": 7,
   "metadata": {},
   "outputs": [
    {
     "name": "stdout",
     "output_type": "stream",
     "text": [
      "Wall time: 27.1 s\n"
     ]
    },
    {
     "data": {
      "text/plain": [
       "[('президент', 1, 3354),\n",
       " ('резидент', 2, 15),\n",
       " ('президенте', 2, 139),\n",
       " ('президенты', 2, 153),\n",
       " ('президенту', 2, 380),\n",
       " ('президента', 2, 3562),\n",
       " ('причинено', 3, 1),\n",
       " ('президентка', 3, 1),\n",
       " ('пригоден', 3, 1),\n",
       " ('привидений', 3, 1)]"
      ]
     },
     "execution_count": 7,
     "metadata": {},
     "output_type": "execute_result"
    }
   ],
   "source": [
    "%%time\n",
    "\n",
    "find_nearest('призидент')"
   ]
  },
  {
   "cell_type": "markdown",
   "metadata": {},
   "source": [
    "## Bigrams"
   ]
  },
  {
   "cell_type": "code",
   "execution_count": 8,
   "metadata": {},
   "outputs": [],
   "source": [
    "bigram_index = defaultdict(list)"
   ]
  },
  {
   "cell_type": "code",
   "execution_count": 9,
   "metadata": {},
   "outputs": [],
   "source": [
    "for word in set(words):\n",
    "    bigrams = [word[i:i+2] for i in range(len(word)-1)]\n",
    "    [bigram_index[bigram].append(word) for bigram in bigrams]"
   ]
  },
  {
   "cell_type": "code",
   "execution_count": 10,
   "metadata": {},
   "outputs": [],
   "source": [
    "def find_nearest_by_index(word, n=10):\n",
    "    result = []\n",
    "    \n",
    "    bigram_words = []\n",
    "    bigrams = [word[i:i+2] for i in range(len(word)-1)]\n",
    "    [bigram_words.extend(bigram_index[bigram]) for bigram in bigrams]\n",
    "    \n",
    "    c = Counter(bigram_words)\n",
    "    bigram_set = {k for k,v in c.items() if v > 1 and len(k)-len(word) < 3 and len(k)-len(word) > -3}\n",
    "    \n",
    "    for bigram_word in bigram_set:\n",
    "        dist = stringdist.rdlevenshtein(word, bigram_word)\n",
    "        result.append((bigram_word, dist, cnt[bigram_word]))\n",
    "        \n",
    "    result.sort(key=operator.itemgetter(1, 2))\n",
    "    \n",
    "    return result[:n]"
   ]
  },
  {
   "cell_type": "code",
   "execution_count": 11,
   "metadata": {
    "scrolled": true
   },
   "outputs": [
    {
     "name": "stdout",
     "output_type": "stream",
     "text": [
      "Wall time: 1.05 s\n"
     ]
    },
    {
     "data": {
      "text/plain": [
       "[('президент', 1, 3354),\n",
       " ('резидент', 2, 15),\n",
       " ('президенте', 2, 139),\n",
       " ('президенты', 2, 153),\n",
       " ('президенту', 2, 380),\n",
       " ('президента', 2, 3562),\n",
       " ('пригоден', 3, 1),\n",
       " ('привидений', 3, 1),\n",
       " ('причинено', 3, 1),\n",
       " ('президентах', 3, 1)]"
      ]
     },
     "execution_count": 11,
     "metadata": {},
     "output_type": "execute_result"
    }
   ],
   "source": [
    "%%time\n",
    "\n",
    "find_nearest_by_index('призидент')"
   ]
  },
  {
   "cell_type": "code",
   "execution_count": null,
   "metadata": {},
   "outputs": [],
   "source": []
  }
 ],
 "metadata": {
  "kernelspec": {
   "display_name": "Python 3",
   "language": "python",
   "name": "python3"
  },
  "language_info": {
   "codemirror_mode": {
    "name": "ipython",
    "version": 3
   },
   "file_extension": ".py",
   "mimetype": "text/x-python",
   "name": "python",
   "nbconvert_exporter": "python",
   "pygments_lexer": "ipython3",
   "version": "3.6.0"
  }
 },
 "nbformat": 4,
 "nbformat_minor": 2
}
