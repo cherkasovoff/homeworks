{
 "cells": [
  {
   "cell_type": "code",
   "execution_count": 14,
   "metadata": {},
   "outputs": [],
   "source": [
    "from parsers import MeduzaParser, AifParser\n",
    "import pickle\n",
    "import pandas as pd"
   ]
  },
  {
   "cell_type": "code",
   "execution_count": 2,
   "metadata": {},
   "outputs": [],
   "source": [
    "def save_to_file(data, filename):\n",
    "    with open(f\"data/{filename}.pkl\", 'wb') as f:\n",
    "        pickle.dump(data, f)"
   ]
  },
  {
   "cell_type": "code",
   "execution_count": 3,
   "metadata": {},
   "outputs": [],
   "source": [
    "meduza_parser = MeduzaParser()\n",
    "aif_parser = AifParser()"
   ]
  },
  {
   "cell_type": "code",
   "execution_count": null,
   "metadata": {},
   "outputs": [],
   "source": [
    "news = []\n",
    "for parser in [meduza_parser, aif_parser]:\n",
    "    site_news = parser.parse_news(10000)\n",
    "    news.extend(site_news)\n",
    "    \n",
    "save_to_file(news, \"news\")"
   ]
  },
  {
   "cell_type": "code",
   "execution_count": 10,
   "metadata": {},
   "outputs": [
    {
     "data": {
      "text/plain": [
       "20090"
      ]
     },
     "execution_count": 10,
     "metadata": {},
     "output_type": "execute_result"
    }
   ],
   "source": [
    "len(news)"
   ]
  },
  {
   "cell_type": "code",
   "execution_count": 13,
   "metadata": {},
   "outputs": [],
   "source": [
    "save_to_file(news, \"news_all\")"
   ]
  },
  {
   "cell_type": "code",
   "execution_count": 15,
   "metadata": {},
   "outputs": [],
   "source": [
    "news = pd.DataFrame(news)"
   ]
  },
  {
   "cell_type": "code",
   "execution_count": 16,
   "metadata": {},
   "outputs": [
    {
     "data": {
      "text/html": [
       "<div>\n",
       "<style scoped>\n",
       "    .dataframe tbody tr th:only-of-type {\n",
       "        vertical-align: middle;\n",
       "    }\n",
       "\n",
       "    .dataframe tbody tr th {\n",
       "        vertical-align: top;\n",
       "    }\n",
       "\n",
       "    .dataframe thead th {\n",
       "        text-align: right;\n",
       "    }\n",
       "</style>\n",
       "<table border=\"1\" class=\"dataframe\">\n",
       "  <thead>\n",
       "    <tr style=\"text-align: right;\">\n",
       "      <th></th>\n",
       "      <th>author</th>\n",
       "      <th>body</th>\n",
       "      <th>date</th>\n",
       "      <th>rubric</th>\n",
       "      <th>title</th>\n",
       "    </tr>\n",
       "  </thead>\n",
       "  <tbody>\n",
       "    <tr>\n",
       "      <th>0</th>\n",
       "      <td>Meduza</td>\n",
       "      <td>Верховный суд Марий Эл 23 мая отменил решени...</td>\n",
       "      <td>2019-05-31 15:04:00</td>\n",
       "      <td>NaN</td>\n",
       "      <td>VPN-сервис HideMy.name выиграл суд о блокировке</td>\n",
       "    </tr>\n",
       "    <tr>\n",
       "      <th>1</th>\n",
       "      <td>Рамуш Харадинай</td>\n",
       "      <td>Россиянин Михаил Краснощеков, работающий в ми...</td>\n",
       "      <td>2019-05-31 12:46:00</td>\n",
       "      <td>NaN</td>\n",
       "      <td>Власти Косово объявили российского сотрудника...</td>\n",
       "    </tr>\n",
       "    <tr>\n",
       "      <th>2</th>\n",
       "      <td>Коммерсант</td>\n",
       "      <td>Министерство образования и науки РФ ответило н...</td>\n",
       "      <td>2019-05-31 14:03:00</td>\n",
       "      <td>NaN</td>\n",
       "      <td>В Минобрнауки назвали легитимным формирование ...</td>\n",
       "    </tr>\n",
       "    <tr>\n",
       "      <th>3</th>\n",
       "      <td>\"Красная звезда\"</td>\n",
       "      <td>В главном храме Минобороны, который строят в ...</td>\n",
       "      <td>2019-05-31 13:57:00</td>\n",
       "      <td>NaN</td>\n",
       "      <td>В главном храме Минобороны изобразят подвиг 28...</td>\n",
       "    </tr>\n",
       "    <tr>\n",
       "      <th>4</th>\n",
       "      <td>Forbes</td>\n",
       "      <td>Следователи, ведущие дело «Седьмой студии», в...</td>\n",
       "      <td>2019-05-31 12:22:00</td>\n",
       "      <td>NaN</td>\n",
       "      <td>В деле «Седьмой студии» появится новый подоз...</td>\n",
       "    </tr>\n",
       "  </tbody>\n",
       "</table>\n",
       "</div>"
      ],
      "text/plain": [
       "             author                                               body  \\\n",
       "0            Meduza  Верховный суд Марий Эл 23 мая отменил решени...   \n",
       "1   Рамуш Харадинай  Россиянин Михаил Краснощеков, работающий в ми...   \n",
       "2        Коммерсант  Министерство образования и науки РФ ответило н...   \n",
       "3  \"Красная звезда\"  В главном храме Минобороны, который строят в ...   \n",
       "4            Forbes  Следователи, ведущие дело «Седьмой студии», в...   \n",
       "\n",
       "                 date rubric  \\\n",
       "0 2019-05-31 15:04:00    NaN   \n",
       "1 2019-05-31 12:46:00    NaN   \n",
       "2 2019-05-31 14:03:00    NaN   \n",
       "3 2019-05-31 13:57:00    NaN   \n",
       "4 2019-05-31 12:22:00    NaN   \n",
       "\n",
       "                                               title  \n",
       "0    VPN-сервис HideMy.name выиграл суд о блокировке  \n",
       "1  Власти Косово объявили российского сотрудника...  \n",
       "2  В Минобрнауки назвали легитимным формирование ...  \n",
       "3  В главном храме Минобороны изобразят подвиг 28...  \n",
       "4  В деле «Седьмой студии» появится новый подоз...  "
      ]
     },
     "execution_count": 16,
     "metadata": {},
     "output_type": "execute_result"
    }
   ],
   "source": [
    "news.head()"
   ]
  },
  {
   "cell_type": "code",
   "execution_count": 17,
   "metadata": {},
   "outputs": [
    {
     "data": {
      "text/html": [
       "<div>\n",
       "<style scoped>\n",
       "    .dataframe tbody tr th:only-of-type {\n",
       "        vertical-align: middle;\n",
       "    }\n",
       "\n",
       "    .dataframe tbody tr th {\n",
       "        vertical-align: top;\n",
       "    }\n",
       "\n",
       "    .dataframe thead th {\n",
       "        text-align: right;\n",
       "    }\n",
       "</style>\n",
       "<table border=\"1\" class=\"dataframe\">\n",
       "  <thead>\n",
       "    <tr style=\"text-align: right;\">\n",
       "      <th></th>\n",
       "      <th>author</th>\n",
       "      <th>body</th>\n",
       "      <th>date</th>\n",
       "      <th>rubric</th>\n",
       "      <th>title</th>\n",
       "    </tr>\n",
       "  </thead>\n",
       "  <tbody>\n",
       "    <tr>\n",
       "      <th>20085</th>\n",
       "      <td>aif</td>\n",
       "      <td>\\nМосква, 31 мая - АиФ-Москва.\\nГенсекретарь О...</td>\n",
       "      <td>2019-05-31 13:32:00</td>\n",
       "      <td>money</td>\n",
       "      <td>В церемонии открытия ПМЭФ-2019 примет участие ...</td>\n",
       "    </tr>\n",
       "    <tr>\n",
       "      <th>20086</th>\n",
       "      <td>aif</td>\n",
       "      <td>\\nМоcква, 31 мая - АиФ-Москва.\\n \\n\\n\\n\\nВице-...</td>\n",
       "      <td>2019-05-31 13:00:00</td>\n",
       "      <td>money</td>\n",
       "      <td>Вице-спикер Рады обвинила Гройсмана в разворов...</td>\n",
       "    </tr>\n",
       "    <tr>\n",
       "      <th>20087</th>\n",
       "      <td>Елена Слободян</td>\n",
       "      <td>\\n\\n\\n\\n\\n\\n\\t\\tОтвет редакции\\t\\t\\t\\t\\n\\n\\t\\t...</td>\n",
       "      <td>2019-05-31 12:41:00</td>\n",
       "      <td>money</td>\n",
       "      <td>Что такое наследственный договор и кому он выг...</td>\n",
       "    </tr>\n",
       "    <tr>\n",
       "      <th>20088</th>\n",
       "      <td>Анна Джей</td>\n",
       "      <td>\\n\\n\\n\\n\\n\\n\\t\\tОтвет редакции\\t\\t\\t\\t\\n\\n\\t\\t...</td>\n",
       "      <td>2019-05-31 12:25:00</td>\n",
       "      <td>money</td>\n",
       "      <td>Как сэкономить с помощью портала госуслуг?</td>\n",
       "    </tr>\n",
       "    <tr>\n",
       "      <th>20089</th>\n",
       "      <td>aif</td>\n",
       "      <td>\\nМоcква, 31 мая - АиФ-Москва.\\n \\n\\n\\n\\nРосси...</td>\n",
       "      <td>2019-05-31 11:40:00</td>\n",
       "      <td>money</td>\n",
       "      <td>Счетная палата назвала сумму, которую пенсионе...</td>\n",
       "    </tr>\n",
       "  </tbody>\n",
       "</table>\n",
       "</div>"
      ],
      "text/plain": [
       "               author                                               body  \\\n",
       "20085             aif  \\nМосква, 31 мая - АиФ-Москва.\\nГенсекретарь О...   \n",
       "20086             aif  \\nМоcква, 31 мая - АиФ-Москва.\\n \\n\\n\\n\\nВице-...   \n",
       "20087  Елена Слободян  \\n\\n\\n\\n\\n\\n\\t\\tОтвет редакции\\t\\t\\t\\t\\n\\n\\t\\t...   \n",
       "20088       Анна Джей  \\n\\n\\n\\n\\n\\n\\t\\tОтвет редакции\\t\\t\\t\\t\\n\\n\\t\\t...   \n",
       "20089             aif  \\nМоcква, 31 мая - АиФ-Москва.\\n \\n\\n\\n\\nРосси...   \n",
       "\n",
       "                     date rubric  \\\n",
       "20085 2019-05-31 13:32:00  money   \n",
       "20086 2019-05-31 13:00:00  money   \n",
       "20087 2019-05-31 12:41:00  money   \n",
       "20088 2019-05-31 12:25:00  money   \n",
       "20089 2019-05-31 11:40:00  money   \n",
       "\n",
       "                                                   title  \n",
       "20085  В церемонии открытия ПМЭФ-2019 примет участие ...  \n",
       "20086  Вице-спикер Рады обвинила Гройсмана в разворов...  \n",
       "20087  Что такое наследственный договор и кому он выг...  \n",
       "20088         Как сэкономить с помощью портала госуслуг?  \n",
       "20089  Счетная палата назвала сумму, которую пенсионе...  "
      ]
     },
     "execution_count": 17,
     "metadata": {},
     "output_type": "execute_result"
    }
   ],
   "source": [
    "news.tail()"
   ]
  },
  {
   "cell_type": "code",
   "execution_count": null,
   "metadata": {},
   "outputs": [],
   "source": []
  }
 ],
 "metadata": {
  "kernelspec": {
   "display_name": "Python 3",
   "language": "python",
   "name": "python3"
  },
  "language_info": {
   "codemirror_mode": {
    "name": "ipython",
    "version": 3
   },
   "file_extension": ".py",
   "mimetype": "text/x-python",
   "name": "python",
   "nbconvert_exporter": "python",
   "pygments_lexer": "ipython3",
   "version": "3.6.0"
  }
 },
 "nbformat": 4,
 "nbformat_minor": 2
}
